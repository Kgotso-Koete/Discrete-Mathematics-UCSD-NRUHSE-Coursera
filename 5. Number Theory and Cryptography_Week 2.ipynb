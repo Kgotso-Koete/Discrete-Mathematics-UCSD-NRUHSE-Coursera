{
 "cells": [
  {
   "cell_type": "markdown",
   "metadata": {
    "collapsed": true
   },
   "source": [
    "# Tile a Rectangle with Squares"
   ]
  },
  {
   "cell_type": "markdown",
   "metadata": {},
   "source": [
    "Given an n \\times mn×m grid (where n,mn,m are integers), you would like to tile it with the minimal number of same size squares. Clearly, it can always be tiled with nmnm squares of size 1 \\times 11×1, but it is not always optimal. For example, a 6 \\times 106×10 grid can be tiled by 15 squares of size 2 \\times 22×2:"
   ]
  },
  {
   "cell_type": "markdown",
   "metadata": {},
   "source": [
    "Your goal in this problem is to implement a function squares(n, m) that returns the minimum number of same size squares required to tile a grid of size n \\times mn×m. Your code should work fast (in less than a second) even for n,mn,m up to 1\\,000\\,000\\,0001000000000."
   ]
  },
  {
   "cell_type": "code",
   "execution_count": 5,
   "metadata": {},
   "outputs": [],
   "source": [
    "def gcd(a, b):\n",
    "    assert a >= 0 and b >= 0 and a + b > 0\n",
    "\n",
    "    while a > 0 and b > 0:\n",
    "        if a >= b:\n",
    "            a = a % b\n",
    "        else:\n",
    "            b = b % a\n",
    "\n",
    "    return max(a, b)\n",
    "\n",
    "def extended_gcd(a, b):\n",
    "    assert a >= b and b >= 0 and a + b > 0\n",
    "\n",
    "    if b == 0:\n",
    "        d, x, y = a, 1, 0\n",
    "    else:\n",
    "        (d, p, q) = extended_gcd(b, a % b)\n",
    "        x = q\n",
    "        y = p - q * (a // b)\n",
    "\n",
    "    assert a % d == 0 and b % d == 0\n",
    "    assert d == a * x + b * y\n",
    "    return (d, x, y)"
   ]
  },
  {
   "cell_type": "code",
   "execution_count": 79,
   "metadata": {},
   "outputs": [
    {
     "data": {
      "text/plain": [
       "1"
      ]
     },
     "execution_count": 79,
     "metadata": {},
     "output_type": "execute_result"
    }
   ],
   "source": [
    "# fix this code\n",
    "def squares(n, m):\n",
    "    return int((n*m)/gcd(n, m)**2)\n",
    "\n",
    "squares(2, 2)"
   ]
  },
  {
   "cell_type": "markdown",
   "metadata": {},
   "source": [
    "# Least Common Multiple"
   ]
  },
  {
   "cell_type": "code",
   "execution_count": 74,
   "metadata": {},
   "outputs": [],
   "source": [
    "def lcm(a, b):\n",
    "    assert a > 0 and b > 0\n",
    "     # Write your code here\n",
    "    return int(a*b/gcd(a, b))"
   ]
  },
  {
   "cell_type": "markdown",
   "metadata": {},
   "source": [
    "What is the least common multiple of 2 and 3?"
   ]
  },
  {
   "cell_type": "code",
   "execution_count": 34,
   "metadata": {},
   "outputs": [
    {
     "data": {
      "text/plain": [
       "6"
      ]
     },
     "execution_count": 34,
     "metadata": {},
     "output_type": "execute_result"
    }
   ],
   "source": [
    "lcm(2, 3)"
   ]
  },
  {
   "cell_type": "markdown",
   "metadata": {},
   "source": [
    "What is the least common multiple of 10 and 15?"
   ]
  },
  {
   "cell_type": "code",
   "execution_count": 35,
   "metadata": {},
   "outputs": [
    {
     "data": {
      "text/plain": [
       "30"
      ]
     },
     "execution_count": 35,
     "metadata": {},
     "output_type": "execute_result"
    }
   ],
   "source": [
    "lcm(10, 15)"
   ]
  },
  {
   "cell_type": "markdown",
   "metadata": {},
   "source": [
    "What is the least common multiple of 35 and 70?"
   ]
  },
  {
   "cell_type": "code",
   "execution_count": 36,
   "metadata": {},
   "outputs": [
    {
     "data": {
      "text/plain": [
       "70"
      ]
     },
     "execution_count": 36,
     "metadata": {},
     "output_type": "execute_result"
    }
   ],
   "source": [
    "lcm(35, 70)"
   ]
  },
  {
   "cell_type": "markdown",
   "metadata": {},
   "source": [
    "# Diophantine Equations: Code"
   ]
  },
  {
   "cell_type": "markdown",
   "metadata": {},
   "source": [
    "Try to use extended Euclid's algorithm to solve Diophantine equations efficiently.\n",
    "\n",
    "Given three numbers a > 0, b > 0, and c, the algorithm should return some x and y such that ax + by = c"
   ]
  },
  {
   "cell_type": "code",
   "execution_count": 50,
   "metadata": {},
   "outputs": [],
   "source": [
    "def diophantine(a, b, c):\n",
    "    \n",
    "    # check that it does have a solution\n",
    "    assert c % gcd(max(a, b), min(a, b)) == 0\n",
    "\n",
    "    if a >= b:\n",
    "        d, x_1, y_1 = extended_gcd(a, b)\n",
    "        x = x_1 * (c // d)\n",
    "        y = y_1 * (c // d)\n",
    "        \n",
    "        assert a*x + b*y == c\n",
    "        return (x, y)\n",
    "    else:\n",
    "        d, x_1, y_1 = extended_gcd(b, a)\n",
    "        x = y_1 * (c // d)\n",
    "        y = x_1 * (c // d)\n",
    "        \n",
    "        assert a*x + b*y == c\n",
    "        return (x, y)\n",
    "    "
   ]
  },
  {
   "cell_type": "code",
   "execution_count": 51,
   "metadata": {},
   "outputs": [],
   "source": [
    "def isolve(a,b,c):\n",
    "    ''' Source: A Short Course in Python for Number Theory, Jim Carlson, 2004'''\n",
    "    ''' This implementation is being used to check the correction of the diophantine function written above'''\n",
    "    q, r = divmod(a,b)\n",
    "    if r == 0:\n",
    "        return(0, c / b)\n",
    "    else:\n",
    "        sol = isolve( b, r, c )\n",
    "        u = sol[0]\n",
    "        v = sol[1]\n",
    "    return(v, u - q*v)"
   ]
  },
  {
   "cell_type": "code",
   "execution_count": 53,
   "metadata": {},
   "outputs": [
    {
     "name": "stdout",
     "output_type": "stream",
     "text": [
      "Program is correct!\n"
     ]
    }
   ],
   "source": [
    "assert diophantine(299, 391, -69) == isolve(299, 391, -69)\n",
    "assert diophantine(391, 299, -69) == isolve(391, 299, -69)\n",
    "assert diophantine(1, 1, 7) == isolve(1, 1, 7)\n",
    "assert diophantine(23, 19, 5) == isolve(23, 19, 5)\n",
    "assert diophantine(19, 23, 5) == isolve(19, 23, 5)\n",
    "print(\"Program is correct!\")"
   ]
  },
  {
   "cell_type": "markdown",
   "metadata": {},
   "source": [
    "# Modular Division: Code"
   ]
  },
  {
   "cell_type": "markdown",
   "metadata": {},
   "source": [
    "Now that you know how to use extended Euclid's algorithm for finding modular inverses, implement an efficient algorithm for dividing b by a modulo n.\n",
    "\n",
    "Given three integers a, b, and n, such that gcd(a,n) = 1 and n > 1, the algorithm should return an integer x such that\n",
    " 0 ≤ x≤ n−1, and b/a =x(modn)."
   ]
  },
  {
   "cell_type": "code",
   "execution_count": 127,
   "metadata": {},
   "outputs": [],
   "source": [
    "def divide(a, b, n):\n",
    "    assert n > 1 and a > 0 and gcd(a, n) == 1\n",
    "    \n",
    "    d, x_1, y_1 = extended_gcd(max(a, n), min(a, n))\n",
    "    \n",
    "    x = (b * (y_1 % n)) % n\n",
    "\n",
    "    # return the number x s.t. x = b / a (mod n) and 0 <= x <= n-1.\n",
    "    return x"
   ]
  },
  {
   "cell_type": "code",
   "execution_count": 128,
   "metadata": {},
   "outputs": [
    {
     "data": {
      "text/plain": [
       "8"
      ]
     },
     "execution_count": 128,
     "metadata": {},
     "output_type": "execute_result"
    }
   ],
   "source": [
    "divide(2, 7, 9)"
   ]
  },
  {
   "cell_type": "code",
   "execution_count": null,
   "metadata": {},
   "outputs": [],
   "source": []
  }
 ],
 "metadata": {
  "kernelspec": {
   "display_name": "Python 3.6",
   "language": "python",
   "name": "python36"
  },
  "language_info": {
   "codemirror_mode": {
    "name": "ipython",
    "version": 3
   },
   "file_extension": ".py",
   "mimetype": "text/x-python",
   "name": "python",
   "nbconvert_exporter": "python",
   "pygments_lexer": "ipython3",
   "version": "3.6.3"
  }
 },
 "nbformat": 4,
 "nbformat_minor": 2
}
