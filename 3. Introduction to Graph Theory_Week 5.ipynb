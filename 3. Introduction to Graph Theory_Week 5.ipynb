{
 "cells": [
  {
   "cell_type": "markdown",
   "metadata": {
    "collapsed": true
   },
   "source": [
    "# Stable Matching: Gale-Shapely Algorithm"
   ]
  },
  {
   "cell_type": "markdown",
   "metadata": {},
   "source": [
    "We'll implement the Stable Matching algorithm from the previous lesson.\n",
    "\n",
    "Recall the pseudocode of the algorithm:\n",
    "\n",
    "While there exists an unmarried man:\n",
    "\n",
    "1. Pick an arbitrary unmarried man M\n",
    "\n",
    "2. Choose the top woman W from his list to whom he hasn't proposed yet\n",
    "\n",
    "3. If W is free or prefers M over her current husband, then marry M and W\n",
    "\n",
    "We'll write a Python function stableMatching(n, menPreferences, womenPreferences) that gets the number n of women and men, preferences of all women and men, and outputs a stable matching.\n",
    "\n",
    "For simplicity we'll be assuming that the names of n men and n women are 0, 1, ..., n-1.\n",
    "\n",
    "Then the menPreferences is a two-dimensional array (a list of lists in Python) of dimensions n by n, where menPreferences[i] contains the list of all women sorted according to their rankings by the man number i. As an example, the man number i likes the best the woman number menPreferences[i][0], and likes the least the woman number menPreferences[i][n-1]. Similarly, the array womenPreferences contains rankings of men by women. For example, womenPreferences[i][0] is the number of man who is the top choice for woman i.\n",
    "\n",
    "Our function will return a list of length n, where ith element is the number of woman chosen for the man number i.\n",
    "\n",
    "For convenience we can store\n",
    "\n",
    "1. unmarriedMen -- the list of currently unmarried men;\n",
    "\n",
    "2. manSpouse -- the list of current spouses of all man;\n",
    "\n",
    "3. womanSpouse -- the list of current spouses of all woman;\n",
    "\n",
    "4. nextManChoice -- contains the number of proposals each man has made.\n",
    "\n"
   ]
  },
  {
   "cell_type": "code",
   "execution_count": 63,
   "metadata": {},
   "outputs": [
    {
     "name": "stdout",
     "output_type": "stream",
     "text": [
      "Success!\n"
     ]
    }
   ],
   "source": [
    "def stableMatching(n, menPreferences, womenPreferences):\n",
    "# Do not change the function definition line.\n",
    "\n",
    "    # Initially, all n men are unmarried\n",
    "    unmarriedMen = list(range(n))\n",
    "    # None of the men has a spouse yet, we denote this by the value None\n",
    "    manSpouse = [None] * n                      \n",
    "    # None of the women has a spouse yet, we denote this by the value None\n",
    "    womanSpouse = [None] * n                      \n",
    "    # Each man made 0 proposals, which means that \n",
    "    # his next proposal will be to the woman number 0 in his list\n",
    "    nextManChoice = [0] * n                       \n",
    "    \n",
    "    # While there exists at least one unmarried man:\n",
    "    while unmarriedMen:\n",
    "        # Pick an arbitrary unmarried man\n",
    "        he = unmarriedMen[0]                      \n",
    "        # Store his ranking in this variable for convenience\n",
    "        hisPreferences = menPreferences[he]       \n",
    "        # Find a woman to propose to\n",
    "        she = hisPreferences[nextManChoice[he]] \n",
    "        # Store her ranking in this variable for convenience\n",
    "        herPreferences = womenPreferences[she]\n",
    "        # Find the present husband of the selected woman (it might be None)\n",
    "        currentHusband = womanSpouse[she]         \n",
    "        \n",
    "        # Write your code here\n",
    "        \n",
    "        # Now \"he\" proposes to \"she\". \n",
    "        # Decide whether \"she\" accepts, and update the following fields\n",
    "        # 1. manSpouse\n",
    "        # 2. womanSpouse\n",
    "        # 3. unmarriedMen\n",
    "        # 4. nextManChoice\n",
    "        \n",
    "        # if she is single then pair them up\n",
    "        if currentHusband ==  None:\n",
    "            manSpouse[he] = she # make her his spouse\n",
    "            womanSpouse[she] = he # make him her spouse\n",
    "            unmarriedMen = unmarriedMen[1:] # decrease the list of unmarried men\n",
    "            continue\n",
    "\n",
    "        # if she is married but rejects him because he ranks lower than the current husband\n",
    "        if currentHusband != None and herPreferences.index(currentHusband) < herPreferences.index(he):\n",
    "            nextManChoice[he] += 1\n",
    "            continue\n",
    "\n",
    "        # if she is already married but he ranks higher than current husband\n",
    "        if currentHusband != None and herPreferences.index(currentHusband) > herPreferences.index(he):\n",
    "            manSpouse[he] = she # make her his spouse\n",
    "            womanSpouse[she] = he # make him her spouse\n",
    "            unmarriedMen = unmarriedMen[1:] # decrease the list of unmarried men\n",
    "            unmarriedMen.append(currentHusband) # add the current husband to list of unmarried men\n",
    "            nextManChoice[currentHusband] += 1 # move down the list of current husband's preferences\n",
    "            continue\n",
    "                \n",
    "    # Note that if you don't update the unmarriedMen list, \n",
    "    # then this algorithm will run forever. \n",
    "    # Thus, if you submit this default implementation,\n",
    "    # you may receive \"SUBMIT ERROR\".\n",
    "    return manSpouse\n",
    "    \n",
    "# You might want to test your implementation on the following two tests:\n",
    "# assert(stableMatching(1, [ [0] ], [ [0] ]) == [0])\n",
    "# assert(stableMatching(2, [ [0,1], [1,0] ], [ [0,1], [1,0] ]) == [0, 1])\n",
    "\n",
    "assert(stableMatching(1, [ [0] ], [ [0] ]) == [0])\n",
    "assert(stableMatching(2, [ [0,1], [1,0] ], [ [0,1], [1,0] ]) == [0, 1])\n",
    "assert(stableMatching(2, [[0, 1], [0, 1]], [[1, 0], [0, 1]]) == [1, 0])\n",
    "print(\"Success!\")"
   ]
  },
  {
   "cell_type": "code",
   "execution_count": null,
   "metadata": {},
   "outputs": [],
   "source": []
  }
 ],
 "metadata": {
  "kernelspec": {
   "display_name": "Python 3.6",
   "language": "python",
   "name": "python36"
  },
  "language_info": {
   "codemirror_mode": {
    "name": "ipython",
    "version": 3
   },
   "file_extension": ".py",
   "mimetype": "text/x-python",
   "name": "python",
   "nbconvert_exporter": "python",
   "pygments_lexer": "ipython3",
   "version": "3.6.3"
  }
 },
 "nbformat": 4,
 "nbformat_minor": 2
}
