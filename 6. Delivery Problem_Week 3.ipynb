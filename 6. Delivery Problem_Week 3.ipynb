{
 "cells": [
  {
   "cell_type": "markdown",
   "metadata": {},
   "source": [
    "# Approximation"
   ]
  },
  {
   "cell_type": "markdown",
   "metadata": {},
   "source": [
    "Implement an approximation algorithm for the Traveling Salesman problem, which outputs a solution which is a 2-approximation of the optimal weight."
   ]
  },
  {
   "cell_type": "code",
   "execution_count": 59,
   "metadata": {},
   "outputs": [],
   "source": [
    "import networkx as nx\n",
    "\n",
    "def approximation(g):\n",
    "    \n",
    "    # This function takes as input a graph g.\n",
    "    # The graph is complete (i.e., each pair of distinct vertices is connected by an edge),\n",
    "    # undirected (i.e., the edge from u to v has the same weight as the edge from v to u),\n",
    "    # and has no self-loops (i.e., there are no edges from i to i).\n",
    "    #\n",
    "    # The function should return a 2-approximation of an optimal Hamiltonian cycle.\n",
    "\n",
    "    # n is the number of vertices.\n",
    "    n = g.number_of_nodes()\n",
    "\n",
    "    # You might want to use the function \"nx.minimum_spanning_tree(g)\"\n",
    "    # which returns a Minimum Spanning Tree of the graph g\n",
    "\n",
    "    # You also might want to use the command \"list(nx.dfs_preorder_nodes(graph, 0))\"\n",
    "    # which gives a list of vertices of the given graph in depth-first preorder.\n",
    "    \n",
    "    # Minimum Spanning Tree of the graph g\n",
    "    T = nx.minimum_spanning_tree(g)\n",
    "    T_list = list(T.edges_iter(data='weight'))\n",
    "    T_weight_pairs = [(pair[0], pair[1], T[pair[0]][pair[1]]['weight']) for pair in T_list]\n",
    "\n",
    "    # list of vertices of the given graph in depth-first preorder\n",
    "    #D = list(nx.dfs_preorder_nodes(T, 0))\n",
    "    \n",
    "    # double the edges\n",
    "    G = nx.MultiGraph()\n",
    "    G.add_weighted_edges_from(T_weight_pairs)\n",
    "    G.add_weighted_edges_from(T_weight_pairs)\n",
    "    G_list = list(G.edges_iter(data='weight'))\n",
    "    G_weight_pairs = [(pair[0], pair[1], T[pair[0]][pair[1]]['weight']) for pair in G_list]\n",
    "\n",
    "    #find a Eulerian circuit in G\n",
    "    C = list(nx.eulerian_circuit(G))\n",
    "    \n",
    "    weight = sum(list([T[pair[0]][pair[1]]['weight'] for pair in C]))\n",
    "\n",
    "    return weight\n",
    "\n",
    "def test_approximation():\n",
    "    G=nx.Graph()\n",
    "\n",
    "    G.add_edge(1,2,weight=0.6)\n",
    "    G.add_edge(1,3,weight=0.2)\n",
    "    G.add_edge(3,4,weight=0.1)\n",
    "    G.add_edge(3,5,weight=0.7)\n",
    "    G.add_edge(3,6,weight=0.9)\n",
    "    G.add_edge(1,4,weight=0.3)\n",
    "    \n",
    "    return approximation(G)\n",
    "test_approximation()"
   ]
  },
  {
   "cell_type": "code",
   "execution_count": 60,
   "metadata": {},
   "outputs": [
    {
     "data": {
      "text/plain": [
       "4.999999999999999"
      ]
     },
     "execution_count": 60,
     "metadata": {},
     "output_type": "execute_result"
    }
   ],
   "source": [
    "test_approximation()"
   ]
  },
  {
   "cell_type": "code",
   "execution_count": null,
   "metadata": {},
   "outputs": [],
   "source": []
  },
  {
   "cell_type": "code",
   "execution_count": null,
   "metadata": {},
   "outputs": [],
   "source": []
  }
 ],
 "metadata": {
  "kernelspec": {
   "display_name": "Python 3.6",
   "language": "python",
   "name": "python36"
  },
  "language_info": {
   "codemirror_mode": {
    "name": "ipython",
    "version": 3
   },
   "file_extension": ".py",
   "mimetype": "text/x-python",
   "name": "python",
   "nbconvert_exporter": "python",
   "pygments_lexer": "ipython3",
   "version": "3.6.3"
  }
 },
 "nbformat": 4,
 "nbformat_minor": 2
}
