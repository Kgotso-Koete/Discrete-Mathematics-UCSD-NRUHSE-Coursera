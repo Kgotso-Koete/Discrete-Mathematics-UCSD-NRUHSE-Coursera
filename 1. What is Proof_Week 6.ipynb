{
 "cells": [
  {
   "cell_type": "markdown",
   "metadata": {
    "collapsed": true
   },
   "source": [
    "# Is a permutation even?"
   ]
  },
  {
   "cell_type": "markdown",
   "metadata": {},
   "source": [
    "You need to write a function is_even(p) that returns True for even permutations and False for odd permutations. (Note that the name of the function is important. Keep the first line of the function definition unchanged!)"
   ]
  },
  {
   "cell_type": "code",
   "execution_count": 1,
   "metadata": {},
   "outputs": [
    {
     "data": {
      "text/plain": [
       "True"
      ]
     },
     "execution_count": 1,
     "metadata": {},
     "output_type": "execute_result"
    }
   ],
   "source": [
    "def is_even(p):\n",
    "    \"\"\"\n",
    "    source:https://stackoverflow.com/a/37267965/6556133\n",
    "    \n",
    "    \"\"\"\n",
    "    count=0\n",
    "    for i in range(1,len(p)):\n",
    "        key=p[i]\n",
    "        jj=i\n",
    "        while(jj>0 and p[jj-1]>key):\n",
    "            p[jj]=p[jj-1]\n",
    "            jj=jj-1\n",
    "            count += 1\n",
    "        p[jj]=key\n",
    "    return count % 2 == 0\n",
    "  \n",
    "is_even([1, 2, 0, 3] )"
   ]
  },
  {
   "cell_type": "code",
   "execution_count": null,
   "metadata": {},
   "outputs": [],
   "source": []
  }
 ],
 "metadata": {
  "kernelspec": {
   "display_name": "Python 3.6",
   "language": "python",
   "name": "python36"
  },
  "language_info": {
   "codemirror_mode": {
    "name": "ipython",
    "version": 3
   },
   "file_extension": ".py",
   "mimetype": "text/x-python",
   "name": "python",
   "nbconvert_exporter": "python",
   "pygments_lexer": "ipython3",
   "version": "3.6.3"
  }
 },
 "nbformat": 4,
 "nbformat_minor": 2
}
