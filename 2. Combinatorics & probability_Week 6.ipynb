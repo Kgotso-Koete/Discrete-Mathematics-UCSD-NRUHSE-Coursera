{
 "cells": [
  {
   "cell_type": "markdown",
   "metadata": {},
   "source": [
    "# Final Project: Dice Game"
   ]
  },
  {
   "cell_type": "markdown",
   "metadata": {},
   "source": [
    "Project Overview\n",
    "In this series of three programming tasks, we will implement together a program that will play optimally in a tricky dice game! You program will be given a list of dices and will decide who chooses the dice first (you or your opponent).\n",
    "\n",
    "When the dices are chosen, we will simulate 10000 throws. Each time your number is greater, you get USD 1 from your opponent. Conversely, each time your number is smaller, you pay USD 1 to your opponent.\n",
    "\n",
    "Your ultimate goal is to implement a program that always wins in such a simulation."
   ]
  },
  {
   "cell_type": "markdown",
   "metadata": {},
   "source": [
    "# First Task: Compare Two Dices"
   ]
  },
  {
   "cell_type": "markdown",
   "metadata": {},
   "source": [
    "First Task: Compare Two Dices\n",
    "Implement a function that takes two dices as input and computes two values: the first value is the number of times the first dice wins (out of all possible 36 choices), the second value is the number of times the second dice wins. We say that a dice wins if the number on it is greater than the number on the other dice.\n",
    "\n",
    "To debug your implementation, use the following test cases:\n",
    "\n",
    "Sample 1\n",
    "\n",
    "Input: dice1 = [1, 2, 3, 4, 5, 6], dice2 = [1, 2, 3, 4, 5, 6]\n",
    "\n",
    "Output: (15, 15)\n",
    "\n",
    "Sample 2\n",
    "\n",
    "Input: dice1 = [1, 1, 6, 6, 8, 8], dice2 = [2, 2, 4, 4, 9, 9]\n",
    "\n",
    "Output: (16, 20)"
   ]
  },
  {
   "cell_type": "code",
   "execution_count": 24,
   "metadata": {},
   "outputs": [
    {
     "name": "stdout",
     "output_type": "stream",
     "text": [
      "Programme correct\n"
     ]
    }
   ],
   "source": [
    "from itertools import product\n",
    "\n",
    "def count_wins(dice1, dice2):\n",
    "\n",
    "    # get the combined list of cartesian products\n",
    "    combined = list(product(dice1, dice2))\n",
    "    \n",
    "    # get the list where die one is bigger than die 2\n",
    "    dice1_wins = [(x[0], x[1]) for x in combined if x[0] > x[1]]\n",
    "    dice2_wins = [(x[0], x[1]) for x in combined if x[0] < x[1]]\n",
    "    \n",
    "    return (len(dice1_wins), len(dice2_wins))\n",
    "\n",
    "assert count_wins([1, 2, 3, 4, 5, 6], [1, 2, 3, 4, 5, 6]) == (15, 15)\n",
    "assert count_wins([1, 1, 6, 6, 8, 8], [2, 2, 4, 4, 9, 9]) == (16, 20)\n",
    "print(\"Programme correct\")"
   ]
  },
  {
   "cell_type": "markdown",
   "metadata": {},
   "source": [
    "# Second Task: Is there the Best Dice?"
   ]
  },
  {
   "cell_type": "markdown",
   "metadata": {},
   "source": [
    "Now, your goal is to check whether among the three given dices there is one that is better than the remaining two dices.\n",
    "\n",
    "Implement a function that takes a list of dices and checks whether there is dice (in this list) that is better than all other dices. We say that a dice is better than another one, if it wins more frequently (that is, out of all 36 possibilities, it wins in aa cases, while the second one wins in bb cases, and a>ba>b). If there is such a dice, return its (0-based) index. Otherwise, return -1.\n",
    "\n",
    "Use the following datasets for debugging:\n",
    "\n",
    "Sample 1\n",
    "\n",
    "Input: [[1, 1, 6, 6, 8, 8], [2, 2, 4, 4, 9, 9], [3, 3, 5, 5, 7, 7]]\n",
    "\n",
    "Output: -1\n",
    "\n",
    "Sample 2\n",
    "\n",
    "Input: [[1, 1, 2, 4, 5, 7], [1, 2, 2, 3, 4, 7], [1, 2, 3, 4, 5, 6]]\n",
    "\n",
    "Output: 2\n",
    "\n",
    "Sample 3\n",
    "\n",
    "Input: [[3, 3, 3, 3, 3, 3], [6, 6, 2, 2, 2, 2], [4, 4, 4, 4, 0, 0], [5, 5, 5, 1, 1, 1]]\n",
    "\n",
    "Output: -1\n",
    "\n"
   ]
  },
  {
   "cell_type": "code",
   "execution_count": 109,
   "metadata": {},
   "outputs": [
    {
     "name": "stdout",
     "output_type": "stream",
     "text": [
      "Program is correct\n"
     ]
    }
   ],
   "source": [
    "from itertools import combinations\n",
    "from collections import Counter\n",
    "\n",
    "def find_the_best_dice(dices):\n",
    "    assert all(len(dice) == 6 for dice in dices)\n",
    "\n",
    "    # write your code here\n",
    "    # use your implementation of count_wins method if necessary\n",
    "    \n",
    "    # create a permutation of 'matches'\n",
    "    dice_index = list(range(0, len(dices)))\n",
    "    dice_index_permutation = list(combinations(dice_index, 2))\n",
    " \n",
    "    result = []\n",
    "    \n",
    "    # record scores from each match\n",
    "    for match in dice_index_permutation:\n",
    "        \n",
    "        # get scores from each match\n",
    "        scores = count_wins(dices[match[0]], dices[match[1]])\n",
    "\n",
    "        # append winning side\n",
    "        if scores[0] > scores[1]:\n",
    "            result.append(match[0])\n",
    "        if scores[0] < scores[1]:\n",
    "            result.append(match[1])\n",
    "        if scores[0] == scores[1]:\n",
    "            result.append(match[0])\n",
    "            result.append(match[1])\n",
    "        \n",
    "    \n",
    "    # get best dice list in order of most common winners\n",
    "    best_dice = Counter(result).most_common(2)\n",
    " \n",
    "    if len(best_dice) >= 2 and best_dice[0][1] == best_dice[1][1]:\n",
    "        return -1\n",
    "    else:\n",
    "        return best_dice[0][0]\n",
    "\n",
    "\n",
    "assert find_the_best_dice([[1, 1, 6, 6, 8, 8], [2, 2, 4, 4, 9, 9], [3, 3, 5, 5, 7, 7]]) == -1\n",
    "assert find_the_best_dice([[1, 1, 2, 4, 5, 7], [1, 2, 2, 3, 4, 7], [1, 2, 3, 4, 5, 6]]) == 2\n",
    "assert find_the_best_dice([[3, 3, 3, 3, 3, 3], [6, 6, 2, 2, 2, 2], [4, 4, 4, 4, 0, 0], [5, 5, 5, 1, 1, 1]]) == -1\n",
    "print('Program is correct')"
   ]
  },
  {
   "cell_type": "markdown",
   "metadata": {},
   "source": [
    "# Third Task: Implement a Strategy"
   ]
  },
  {
   "cell_type": "markdown",
   "metadata": {},
   "source": [
    "You are now ready to play!\n",
    "\n",
    "Implement a function that takes a list of dices (possibly more than three) and returns a strategy. The strategy is a dictionary:\n",
    "\n",
    "If, after analyzing the given list of dices, you decide to choose a dice first, set strategy[\"choose_first\"] to True and set strategy[\"first_dice\"] to be the (0-based) index of the dice you would like to choose\n",
    "\n",
    "If you would like to be the second one to choose a dice, set strategy[\"choose_first\"] to False. Then, specify, for each dice that your opponent may take, the dice that you would take in return. Namely, for each i from 0 to len(dices)-1, set strategy[i] to an index j of the dice that you would take if the opponent takes the i-th dice first.\n",
    "\n",
    "Use the following datasets for debugging:\n",
    "\n",
    "Sample 1\n",
    "\n",
    "Input: [[1, 1, 4, 6, 7, 8], [2, 2, 2, 6, 7, 7], [3, 3, 3, 5, 5, 8]]\n",
    "\n",
    "Output: {'choose_first': False, 0: 1, 1: 2, 2: 0}\n",
    "\n",
    "Sample 2\n",
    "\n",
    "Input: [[4, 4, 4, 4, 0, 0], [7, 7, 3, 3, 3, 3], [6, 6, 2, 2, 2, 2], [5, 5, 5, 1, 1, 1]]\n",
    "\n",
    "Output: {'choose_first': True, 'first_dice': 1}\n",
    "\n",
    "Note that your answers do not have to coincide with the answers above. First, the order of elements does not matter in the dictionary. Second, the dictionary might contain extra information that is not required in the statement of the problem. For example, {0: 3, 'first_dice': 1, 'choose_first': True} is also a correct output in Sample 2."
   ]
  },
  {
   "cell_type": "code",
   "execution_count": 155,
   "metadata": {},
   "outputs": [
    {
     "data": {
      "text/plain": [
       "{0: 3, 1: 0, 2: 1, 3: 0, 'choose_first': False, 'first_dice': 0}"
      ]
     },
     "execution_count": 155,
     "metadata": {},
     "output_type": "execute_result"
    }
   ],
   "source": [
    "def compute_strategy(dices):\n",
    "    assert all(len(dice) == 6 for dice in dices)\n",
    "\n",
    "    strategy = dict()\n",
    "    strategy[\"choose_first\"] = True\n",
    "    strategy[\"first_dice\"] = 0\n",
    "    for i in range(len(dices)):\n",
    "        strategy[i] = (i + 1) % len(dices)\n",
    "        \n",
    "    # write your code here\n",
    "    \n",
    "    # get the index of the best dice\n",
    "    best_dice_index = find_the_best_dice(dices)\n",
    "    \n",
    "    # if there is the best dice among the set of dices, choose first and choose best\n",
    "    if best_dice_index != -1:\n",
    "        strategy[\"choose_first\"] = True\n",
    "        strategy[\"first_dice\"] = best_dice_index\n",
    "    \n",
    "    # if there is no best dice, choose second and pick best of the match\n",
    "    if best_dice_index == -1:\n",
    "        strategy[\"choose_first\"] = False\n",
    "        \n",
    "        match_results = []\n",
    "        \n",
    "        for i in range(len(dices)):\n",
    "            scores = count_wins(dices[i], dices[strategy[i]])\n",
    "            match_results.append((i, strategy[i], scores))\n",
    "        \n",
    "        for i in range(len(dices)):\n",
    "            for match in match_results:\n",
    "                if match[1] == i and match[2][0] >= match[2][1]:\n",
    "                    strategy[i] = match[0]\n",
    "        \n",
    "    return strategy\n",
    "\n",
    "compute_strategy([[3, 3, 3, 3, 3, 3], [6, 6, 2, 2, 2, 2], [4, 4, 4, 4, 0, 0], [5, 5, 5, 1, 1, 1]])"
   ]
  },
  {
   "cell_type": "code",
   "execution_count": null,
   "metadata": {},
   "outputs": [],
   "source": []
  }
 ],
 "metadata": {
  "kernelspec": {
   "display_name": "Python 3.6",
   "language": "python",
   "name": "python36"
  },
  "language_info": {
   "codemirror_mode": {
    "name": "ipython",
    "version": 3
   },
   "file_extension": ".py",
   "mimetype": "text/x-python",
   "name": "python",
   "nbconvert_exporter": "python",
   "pygments_lexer": "ipython3",
   "version": "3.6.3"
  }
 },
 "nbformat": 4,
 "nbformat_minor": 2
}
