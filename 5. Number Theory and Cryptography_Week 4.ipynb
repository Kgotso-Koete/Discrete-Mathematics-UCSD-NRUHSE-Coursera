{
 "cells": [
  {
   "cell_type": "markdown",
   "metadata": {
    "collapsed": true
   },
   "source": [
    "# RSA Quiz"
   ]
  },
  {
   "cell_type": "markdown",
   "metadata": {},
   "source": [
    "Implement RSA encryption with the given public key modulo, exponentmodulo,exponent.\n",
    "\n",
    "You have access to the function PowMod(a, n, modulo)PowMod(a,n,modulo) which computes a^n \\bmod{modulo}a \n",
    "n\n",
    " modmodulo using the fast modular exponentiation algorithm from the previous module. You also have access to the function ConvertToInt(message)ConvertToInt(message) which converts a text message to an integer.\n",
    "\n",
    "You need to fix the implementation of the function Encrypt(message, modulo, exponent)Encrypt(message,modulo,exponent) to return the integer ciphertextciphertext according to RSA encryption algorithm.\n",
    "\n"
   ]
  },
  {
   "cell_type": "code",
   "execution_count": 1,
   "metadata": {},
   "outputs": [],
   "source": [
    "def Encrypt(message, modulo, exponent):\n",
    "  # Fix this implementation\n",
    "  return PowMod(ConvertToInt(message), exponent, modulo)"
   ]
  },
  {
   "cell_type": "markdown",
   "metadata": {},
   "source": [
    "Implement RSA decryption with the given private key p, q, exponentp,q,exponent.\n",
    "\n",
    "You have access to the function ConvertToStr(m)ConvertToStr(m) which converts from integer mm to the plaintext messagemessage. You also have access to the function InvertModulo(a, n)InvertModulo(a,n) which takes coprime integers aa and nn as inputs and returns integer bb such that ab \\equiv 1 \\bmod{n}ab≡1modn. You also have access to the function PowMod(a, n, modulo)PowMod(a,n,modulo) which computes a^n \\bmod{modulo}a \n",
    "n\n",
    " modmodulo using fast modular exponentiation.\n",
    "\n",
    "You need to fix the implementation of the function Decrypt(ciphertext, p, q, exponent)Decrypt(ciphertext,p,q,exponent) to decrypt the messagemessage which was encrypted using the public key (n = p \\cdot q, e = exponent)(n=p⋅q,e=exponent)."
   ]
  },
  {
   "cell_type": "code",
   "execution_count": 3,
   "metadata": {},
   "outputs": [
    {
     "ename": "NameError",
     "evalue": "name 'InvertModulo' is not defined",
     "output_type": "error",
     "traceback": [
      "\u001b[0;31m---------------------------------------------------------------------------\u001b[0m",
      "\u001b[0;31mNameError\u001b[0m                                 Traceback (most recent call last)",
      "\u001b[0;32m<ipython-input-3-d4670ab223df>\u001b[0m in \u001b[0;36m<module>\u001b[0;34m()\u001b[0m\n\u001b[1;32m     10\u001b[0m \u001b[0ma\u001b[0m \u001b[0;34m=\u001b[0m \u001b[0;36m3\u001b[0m\u001b[0;34m\u001b[0m\u001b[0m\n\u001b[1;32m     11\u001b[0m \u001b[0mb\u001b[0m \u001b[0;34m=\u001b[0m \u001b[0;36m7\u001b[0m\u001b[0;34m\u001b[0m\u001b[0m\n\u001b[0;32m---> 12\u001b[0;31m \u001b[0mc\u001b[0m \u001b[0;34m=\u001b[0m \u001b[0mInvertModulo\u001b[0m\u001b[0;34m(\u001b[0m\u001b[0ma\u001b[0m\u001b[0;34m,\u001b[0m \u001b[0mb\u001b[0m\u001b[0;34m)\u001b[0m\u001b[0;34m\u001b[0m\u001b[0m\n\u001b[0m\u001b[1;32m     13\u001b[0m \u001b[0mprint\u001b[0m\u001b[0;34m(\u001b[0m\u001b[0mc\u001b[0m\u001b[0;34m)\u001b[0m\u001b[0;34m\u001b[0m\u001b[0m\n\u001b[1;32m     14\u001b[0m \u001b[0;34m\u001b[0m\u001b[0m\n",
      "\u001b[0;31mNameError\u001b[0m: name 'InvertModulo' is not defined"
     ]
    }
   ],
   "source": [
    "def Decrypt(ciphertext, p, q, exponent):\n",
    "    # Totient of n\n",
    "    phi = (p-1) * (q-1)\n",
    "\n",
    "    # Extended Euclid's Algorithm to generate the private key\n",
    "    p_key = InvertModulo(exponent, phi)\n",
    "\n",
    "    return ConvertToStr(PowMod(ciphertext, p_key, p * q))\n",
    "  \n",
    "a = 3\n",
    "b = 7\n",
    "c = InvertModulo(a, b)\n",
    "print(c)\n",
    "\n",
    "p = 1000000007\n",
    "q = 1000000009\n",
    "exponent = 23917\n",
    "modulo = p * q\n",
    "ciphertext = Encrypt(\"attack\", modulo, exponent)\n",
    "message = Decrypt(ciphertext, p, q, exponent)\n",
    "print(message)"
   ]
  },
  {
   "cell_type": "markdown",
   "metadata": {},
   "source": [
    "Secret agent Alice has sent one of the following messages to the center:\n",
    "\n",
    "attack\n",
    "don't attack\n",
    "wait\n",
    "Alice has ciphered her message using public key modulo, exponentmodulo,exponent that is available to you, and you have intercepted her ciphertext. You want to know what was the content of her message. You have access to the function Encrypt(message, modulo, exponent)Encrypt(message,modulo,exponent) which takes in a message as a string and returns a big integer as a ciphertext. It uses RSA encryption with public key modulo, exponentmodulo,exponent. In the starter code, you have an example usage of the function EncryptEncrypt.\n",
    "\n",
    "You also have function DecipherSimple(ciphertext, modulo, exponent, potential\\_messages)DecipherSimple(ciphertext,modulo,exponent,potential_messages) implemented in the starter code. You need to fix this implementation to solve the problem. It should take the ciphertextciphertext sent from Alice to the center, the public key modulo, exponentmodulo,exponent and the set of potential messages that Alice could have sent, and return the message that Alice encrypted and sent as a string. For example, if Alice took message \"wait\", encrypted it with the given modulomodulo and exponentexponent, and got number 139763215139763215 as the ciphertext, you will need to return the string \"wait\" given the ciphertext = 139763215ciphertext=139763215, modulomodulo, exponentexponent and potential\\_messages = [\"attack\", \"don't\\ attack\", \"wait\"]potential_messages=[\"attack\",\"don \n",
    "′\n",
    " t attack\",\"wait\"]."
   ]
  },
  {
   "cell_type": "code",
   "execution_count": null,
   "metadata": {},
   "outputs": [],
   "source": [
    "def DecipherSimple(ciphertext, modulo, exponent, potential_messages):\n",
    "  # Fix this implementation\n",
    "  for text in potential_messages:\n",
    "    if ciphertext == Encrypt(text, modulo, exponent):\n",
    "        return text\n",
    "\n",
    "\n",
    "modulo = 101\n",
    "exponent = 12\n",
    "ciphertext = Encrypt(\"attack\", modulo, exponent)\n",
    "print(ciphertext)\n",
    "print(DecipherSimple(ciphertext, modulo, exponent, [\"attack\", \"don't attack\", \"wait\"]))"
   ]
  },
  {
   "cell_type": "markdown",
   "metadata": {},
   "source": [
    "Alice is using RSA encryption with a public key modulo, exponentmodulo,exponent such that modulo = p \\cdot qmodulo=p⋅q with one of the primes pp and qq being less than 1\\;000\\;0001000000, and you know about it. You want to break the cipher and decrypt her message.\n",
    "\n",
    "You can use the function Decrypt(ciphertext, p, q, e)Decrypt(ciphertext,p,q,e) which decrypts the ciphertextciphertext given the private key p, qp,q and the public exponent ee.\n",
    "\n",
    "You are also given the function DecipherSmallPrime(ciphertext, modulo, exponent)DecipherSmallPrime(ciphertext,modulo,exponent), and you need to fix its implementation so that it can decipher the ciphertextciphertext in case when one of the prime factors of the public modulo is smaller than 1\\;000\\;0001000000."
   ]
  },
  {
   "cell_type": "code",
   "execution_count": null,
   "metadata": {},
   "outputs": [],
   "source": [
    "def DecipherSmallPrime(ciphertext, modulo, exponent):\n",
    "  \n",
    "  for i in range(2,1000000):\n",
    "    if modulo % i == 0:\n",
    "      small_prime = i\n",
    "      big_prime = modulo // small_prime\n",
    "      return Decrypt(ciphertext, small_prime, big_prime, exponent)\n",
    "  \n",
    "modulo = 101 * 18298970732541109011012304219376080251334480295537316123696052970419466495220522723330315111017831737980079504337868198011077274303193766040393009648852841770668239779097280026631944319501437547002412556176186750790476901358334138818777298389724049250700606462316428106882097210008142941838672676714188593227684360287806974345181893018133710957167334490627178666071809992955566020058374505477745993383434501768887090900283569055646901291270870833498474402084748161755197005050874785474707550376333429671113753137201128897550014524209754619355308207537703754006699795711188492048286436285518105948050401762394690148387\n",
    "exponent = 239\n",
    "ciphertext = Encrypt(\"attack\", modulo, exponent)\n",
    "print(ciphertext)\n",
    "print(DecipherSmallPrime(ciphertext, modulo, exponent))"
   ]
  },
  {
   "cell_type": "markdown",
   "metadata": {},
   "source": [
    "Alice is using RSA encryption with a public key modulo, exponentmodulo,exponent such that modulo = p \\cdot qmodulo=p⋅q with |p - q| < 5\\;000∣p−q∣<5000, and you know about it. You want to break the cipher and decrypt her message.\n",
    "\n",
    "You have access to the function Decrypt(ciphertext, p, q, e)Decrypt(ciphertext,p,q,e) which decrypts the ciphertextciphertext given the private key p, qp,q and the public exponent ee. You also have access to the function IntSqrt(n)IntSqrt(n) which takes integer nn and returns the largest integer xx such that x^2 \\leq nx \n",
    "2\n",
    " ≤n.\n",
    "\n",
    "You are also given the function DecipherSmallDiff(ciphertext, modulo, exponent)DecipherSmallDiff(ciphertext,modulo,exponent), and you need to fix its implementation so that it can decipher the ciphertextciphertext in case when the difference beteween prime factors of the public modulo is smaller than 5\\;0005000."
   ]
  },
  {
   "cell_type": "code",
   "execution_count": null,
   "metadata": {},
   "outputs": [],
   "source": [
    "def DecipherSmallDiff(ciphertext, modulo, exponent):\n",
    "  \n",
    "  limit = IntSqrt(modulo)\n",
    "  \n",
    "  for i in range(5000 + 1):\n",
    "    if modulo % (limit - i) == 0:\n",
    "      small_prime = limit - i\n",
    "      big_prime = modulo // small_prime\n",
    "      return Decrypt(ciphertext, small_prime, big_prime, exponent)\n",
    "  \n",
    "p = 1000000007\n",
    "q = 1000000009\n",
    "n = p * q\n",
    "e = 239\n",
    "ciphertext = Encrypt(\"attack\", n, e)\n",
    "message = DecipherSmallDiff(ciphertext, n, e)\n",
    "print(ciphertext)\n",
    "print(message)"
   ]
  }
 ],
 "metadata": {
  "kernelspec": {
   "display_name": "Python 3.6",
   "language": "python",
   "name": "python36"
  },
  "language_info": {
   "codemirror_mode": {
    "name": "ipython",
    "version": 3
   },
   "file_extension": ".py",
   "mimetype": "text/x-python",
   "name": "python",
   "nbconvert_exporter": "python",
   "pygments_lexer": "ipython3",
   "version": "3.6.3"
  }
 },
 "nbformat": 4,
 "nbformat_minor": 2
}
