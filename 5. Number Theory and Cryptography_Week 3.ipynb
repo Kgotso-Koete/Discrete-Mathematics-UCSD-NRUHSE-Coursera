{
 "cells": [
  {
   "cell_type": "markdown",
   "metadata": {},
   "source": [
    "# Chinese Remainder Theorem"
   ]
  },
  {
   "cell_type": "markdown",
   "metadata": {},
   "source": [
    "Implement the algorithm to construct the number from the Chinese Remainder Theorem.\n",
    "\n",
    "You need to implement the function ChineseRemainderTheorem(n_1, r_1, n_2, r_2)ChineseRemainderTheorem(n \n",
    "1\n",
    "​\t ,r \n",
    "1\n",
    "​\t ,n \n",
    "2\n",
    "​\t ,r \n",
    "2\n",
    "​\t ) which takes two coprime numbers n_1n \n",
    "1\n",
    "​\t  and n_2n \n",
    "2\n",
    "​\t  and the respective remainders 0 \\leq r_1 < n_10≤r \n",
    "1\n",
    "​\t <n \n",
    "1\n",
    "​\t  and 0 \\leq r_2 < n_20≤r \n",
    "2\n",
    "​\t <n \n",
    "2\n",
    "​\t , and must return the number rr such that 0 \\leq r < n_1n_20≤r<n \n",
    "1\n",
    "​\t n \n",
    "2\n",
    "​\t , r \\equiv r_1 \\bmod{n_1}r≡r \n",
    "1\n",
    "​\t modn \n",
    "1\n",
    "​\t  and r \\equiv r_2 \\bmod{n_2}r≡r \n",
    "2\n",
    "​\t modn \n",
    "2\n",
    "​\t .\n",
    "\n",
    "You have access to the function ExtendedEuclid(a, b)ExtendedEuclid(a,b) which returns pair of numbers (x, y)(x,y) such that ax + by = GCD(a, b)ax+by=GCD(a,b).\n",
    "\n",
    "Implement the algorithm explained in the lectures.\n",
    "\n"
   ]
  },
  {
   "cell_type": "code",
   "execution_count": 3,
   "metadata": {},
   "outputs": [],
   "source": [
    "def gcd(a, b):\n",
    "    assert a >= 0 and b >= 0 and a + b > 0\n",
    "\n",
    "    while a > 0 and b > 0:\n",
    "        if a >= b:\n",
    "            a = a % b\n",
    "        else:\n",
    "            b = b % a\n",
    "\n",
    "    return max(a, b)\n",
    "\n",
    "def extended_gcd(a, b):\n",
    "    assert a >= b and b >= 0 and a + b > 0\n",
    "\n",
    "    if b == 0:\n",
    "        d, x, y = a, 1, 0\n",
    "    else:\n",
    "        (d, p, q) = extended_gcd(b, a % b)\n",
    "        x = q\n",
    "        y = p - q * (a // b)\n",
    "\n",
    "    assert a % d == 0 and b % d == 0\n",
    "    assert d == a * x + b * y\n",
    "    return (d, x, y)"
   ]
  },
  {
   "cell_type": "code",
   "execution_count": 69,
   "metadata": {},
   "outputs": [],
   "source": [
    "def ChineseRemainderTheorem(n1, r1, n2, r2):\n",
    "    (d, x, y) = extended_gcd(n1, n2)\n",
    "    r = (r1* n2 * y) + (r2 * n1 * x)\n",
    "    \n",
    "    assert r % n1 == r1 and r % n2 == r2\n",
    "    return r % (n1 * n2)"
   ]
  },
  {
   "cell_type": "code",
   "execution_count": 70,
   "metadata": {},
   "outputs": [
    {
     "data": {
      "text/plain": [
       "579510303168901"
      ]
     },
     "execution_count": 70,
     "metadata": {},
     "output_type": "execute_result"
    }
   ],
   "source": [
    "ChineseRemainderTheorem(686579304, 295310485, 26855093, 8217207) # 18438151060795272"
   ]
  },
  {
   "cell_type": "markdown",
   "metadata": {},
   "source": [
    "# Fast Modular Exponentiation"
   ]
  },
  {
   "cell_type": "markdown",
   "metadata": {},
   "source": [
    "Implement fast modular exponentiation.\n",
    "\n",
    "You are given the function FastModularExponentiation(b, e, m)FastModularExponentiation(b,e,m) which computes b^e \\bmod{m}b \n",
    "e\n",
    " modm using ee modular multiplications. You need to change this implementation to work significantly faster and use only around 2\\log_2{e}2log \n",
    "2\n",
    "​\t e modular multiplications."
   ]
  },
  {
   "cell_type": "code",
   "execution_count": 208,
   "metadata": {},
   "outputs": [],
   "source": [
    "import math\n",
    "from functools import reduce\n",
    "\n",
    "def FastModularExponentiation_check(b, e, m):\n",
    "    X = b\n",
    "    E = e\n",
    "    Y = 1\n",
    "\n",
    "    count = 0;\n",
    "\n",
    "    while E > 0:\n",
    "        if E % 2 == 0:\n",
    "            X = (X * X) % m\n",
    "            count = count + 1;\n",
    "            E = E//2\n",
    "\n",
    "        else:\n",
    "            Y = (X * Y) % m\n",
    "            count = count + 1;\n",
    "            E = E - 1\n",
    "\n",
    "    return Y\n",
    "\n",
    "def FastModularExponentiation(b, e, m):\n",
    "    \n",
    "    # Rewrite 𝑒 in binary form: 𝑒 = 1101 … 012\n",
    "    binary = bin(e)[2:]\n",
    " \n",
    "    accumulater = 1\n",
    "    count = 0\n",
    "    \n",
    "    # iterate over the length of the binary list\n",
    "    for k in range(len(binary)):\n",
    "        \n",
    "        if int(binary[len(binary) - k - 1]) > 0: \n",
    "            accumulater *= ((b**2**k) % m) * int(binary[len(binary) - k - 1])\n",
    "            count += 1\n",
    "    print(binary, k)\n",
    "    return accumulater % m\n"
   ]
  },
  {
   "cell_type": "code",
   "execution_count": 209,
   "metadata": {},
   "outputs": [
    {
     "name": "stdout",
     "output_type": "stream",
     "text": [
      "10000000 7\n",
      "1101 3\n",
      "11111001001 10\n",
      "Program is correct!\n"
     ]
    }
   ],
   "source": [
    "\n",
    "assert FastModularExponentiation(7, 128, 11) == FastModularExponentiation_check(7, 128, 11)\n",
    "assert FastModularExponentiation(7, 13, 11) == FastModularExponentiation_check(7, 13, 11)\n",
    "assert FastModularExponentiation(3,1993,17) == FastModularExponentiation_check(3,1993,17)\n",
    "print(\"Program is correct!\")"
   ]
  },
  {
   "cell_type": "code",
   "execution_count": null,
   "metadata": {},
   "outputs": [],
   "source": []
  },
  {
   "cell_type": "code",
   "execution_count": null,
   "metadata": {},
   "outputs": [],
   "source": []
  }
 ],
 "metadata": {
  "kernelspec": {
   "display_name": "Python 3.6",
   "language": "python",
   "name": "python36"
  },
  "language_info": {
   "codemirror_mode": {
    "name": "ipython",
    "version": 3
   },
   "file_extension": ".py",
   "mimetype": "text/x-python",
   "name": "python",
   "nbconvert_exporter": "python",
   "pygments_lexer": "ipython3",
   "version": "3.6.3"
  }
 },
 "nbformat": 4,
 "nbformat_minor": 2
}
