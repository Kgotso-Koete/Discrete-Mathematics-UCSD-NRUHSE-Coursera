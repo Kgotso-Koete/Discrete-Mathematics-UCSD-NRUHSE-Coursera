{
 "cells": [
  {
   "cell_type": "markdown",
   "metadata": {
    "collapsed": true
   },
   "source": [
    "# Puzzle: Always Prime?"
   ]
  },
  {
   "cell_type": "markdown",
   "metadata": {},
   "source": [
    "Somebody has a conjecture: for every integer n > 1 the number n^2 + n + 41 is prime (is not a product of two smaller integers). Is it true? If not, find a counterexample."
   ]
  },
  {
   "cell_type": "code",
   "execution_count": 7,
   "metadata": {},
   "outputs": [
    {
     "data": {
      "text/plain": [
       "{40, 41, 44, 49, 56, 65, 76, 81, 82, 84, 87, 89, 91, 96}"
      ]
     },
     "execution_count": 7,
     "metadata": {},
     "output_type": "execute_result"
    }
   ],
   "source": [
    "# prime numbers are greater than 1\n",
    "def check_primes():\n",
    "    \n",
    "    res = []\n",
    "\n",
    "    for i in range(2, 100):\n",
    "        \n",
    "        val = i**2 + i + 41\n",
    "        \n",
    "        for j in range(2, val):\n",
    "            if (val % j) == 0:\n",
    "                res.append(i)\n",
    "    return set(res)\n",
    "check_primes()"
   ]
  },
  {
   "cell_type": "code",
   "execution_count": null,
   "metadata": {},
   "outputs": [],
   "source": []
  }
 ],
 "metadata": {
  "kernelspec": {
   "display_name": "Python 3.6",
   "language": "python",
   "name": "python36"
  },
  "language_info": {
   "codemirror_mode": {
    "name": "ipython",
    "version": 3
   },
   "file_extension": ".py",
   "mimetype": "text/x-python",
   "name": "python",
   "nbconvert_exporter": "python",
   "pygments_lexer": "ipython3",
   "version": "3.6.3"
  }
 },
 "nbformat": 4,
 "nbformat_minor": 2
}
