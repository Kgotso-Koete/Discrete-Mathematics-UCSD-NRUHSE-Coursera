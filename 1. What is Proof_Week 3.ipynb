{
 "cells": [
  {
   "cell_type": "markdown",
   "metadata": {
    "collapsed": true
   },
   "source": [
    "# Largest Amount that Cannot Be Paid with 5- and 7-Coins"
   ]
  },
  {
   "cell_type": "markdown",
   "metadata": {},
   "source": [
    "Imagine we have only 5- and 7-coins. One can prove that any large enough integer amount can be paid using only such coins. Yet clearly we cannot pay any of numbers 1, 2, 3, 4, 6, 8, 9 with our coins. What is the maximum amount that cannot be paid?"
   ]
  },
  {
   "cell_type": "code",
   "execution_count": 19,
   "metadata": {},
   "outputs": [
    {
     "name": "stdout",
     "output_type": "stream",
     "text": [
      "[1, 2, 3, 4, 5, 6, 7, 8, 9, 11, 13, 16, 18, 23]\n",
      "23\n"
     ]
    }
   ],
   "source": [
    "def change_1(amount):\n",
    "    \n",
    "    if amount < 10: return [0]\n",
    "    if amount == 10: return [5, 5]\n",
    "    if amount == 12: return [5, 7]\n",
    "    if amount == 14: return [7, 7]\n",
    "\n",
    "    if amount % 5 == 0:\n",
    "        coins = change_1(amount - 5)\n",
    "        coins.append(5)\n",
    "\n",
    "    if amount % 7 == 0:\n",
    "        coins = change_1(amount - 7)\n",
    "        coins.append(7)\n",
    "    else:\n",
    "        coins = change_1(amount - 5)\n",
    "        coins.append(5)\n",
    "\n",
    "    return coins\n",
    "\n",
    "result = []\n",
    "\n",
    "for i in range(0,100):\n",
    "    ans = change_1(i)\n",
    "    # print(i, ans, sum(ans) == i)\n",
    "    if sum(ans) != i: result.append(i)\n",
    "print(result)\n",
    "print(max(result))"
   ]
  },
  {
   "cell_type": "markdown",
   "metadata": {},
   "source": [
    "# Pay Any Large Amount with 5- and 7-Coins"
   ]
  },
  {
   "cell_type": "markdown",
   "metadata": {},
   "source": [
    "Develop a Python method change(amount) that for any integer amount in the range from 24 to 1000 returns a list consisting of numbers 5 and 7 only, such that their sum is equal to amount. For example, change(28) may return [7, 7, 7, 7], while change(49) may return [7, 7, 7, 7, 7, 7, 7] or [5, 5, 5, 5, 5, 5, 5, 7, 7] or [7, 5, 5, 5, 5, 5, 5, 5, 7].\n",
    "\n",
    "(To solve this quiz, implement the method change(amount) on your machine, test it on several inputs, and then paste your code in the field below and press the submit quiz button.)"
   ]
  },
  {
   "cell_type": "code",
   "execution_count": 21,
   "metadata": {},
   "outputs": [
    {
     "data": {
      "text/plain": [
       "'\\nfor i in range(24,100):\\n    ans = change(i)\\n    print(i, ans, sum(ans) == i)\\n'"
      ]
     },
     "execution_count": 21,
     "metadata": {},
     "output_type": "execute_result"
    }
   ],
   "source": [
    "def change(amount):    \n",
    "    \n",
    "    if amount == 24: return [5, 5, 7, 7]\n",
    "    \n",
    "    if amount < 24: \n",
    "        if amount == 10: return [5, 5]\n",
    "        if amount == 12: return [5, 7]\n",
    "        if amount == 14: return [7, 7]\n",
    "    \n",
    "    if amount % 7 == 0:\n",
    "        coins = change(amount - 7)\n",
    "        coins.append(7)\n",
    "    else:\n",
    "        coins = change(amount - 5)\n",
    "        coins.append(5)\n",
    "\n",
    "    return coins\n",
    "\n",
    "'''\n",
    "for i in range(24,100):\n",
    "    ans = change(i)\n",
    "    print(i, ans, sum(ans) == i)\n",
    "'''"
   ]
  },
  {
   "cell_type": "markdown",
   "metadata": {},
   "source": [
    "# Number of Moves to Solve the Hanoi Towers Puzzle"
   ]
  },
  {
   "cell_type": "markdown",
   "metadata": {},
   "source": [
    "The number of moves required to solve the Hanoi Towers puzzle for n=1n=1 and n=2n=2 discs is equal to 1 and 3, respectively. Implement the recursive solution for the Hanoi Towers (described in the lectures) and count the number of moves for n=6n=6 discs."
   ]
  },
  {
   "cell_type": "code",
   "execution_count": 22,
   "metadata": {},
   "outputs": [
    {
     "name": "stdout",
     "output_type": "stream",
     "text": [
      "63\n"
     ]
    }
   ],
   "source": [
    "def hanoi(n, source, helper, target):\n",
    "    '''\n",
    "    source: https://www.python-course.eu/towers_of_hanoi.php\n",
    "    \n",
    "    '''\n",
    "    count = 0\n",
    "    \n",
    "    if n > 0:\n",
    "        # move tower of size n - 1 to helper:\n",
    "        count = hanoi(n - 1, source, target, helper)\n",
    "        count += 1\n",
    "        \n",
    "        # move disk from source peg to target peg\n",
    "        if source:\n",
    "            target.append(source.pop())\n",
    "            \n",
    "        # move tower of size n-1 from helper to target\n",
    "        count += hanoi(n - 1, helper, source, target)\n",
    "\n",
    "    return count\n",
    "        \n",
    "source = [6,5,4,3,2,1]\n",
    "target = []\n",
    "helper = []\n",
    "\n",
    "ans = hanoi(len(source),source,helper,target)\n",
    "\n",
    "print(ans)"
   ]
  }
 ],
 "metadata": {
  "kernelspec": {
   "display_name": "Python 3.6",
   "language": "python",
   "name": "python36"
  },
  "language_info": {
   "codemirror_mode": {
    "name": "ipython",
    "version": 3
   },
   "file_extension": ".py",
   "mimetype": "text/x-python",
   "name": "python",
   "nbconvert_exporter": "python",
   "pygments_lexer": "ipython3",
   "version": "3.6.3"
  }
 },
 "nbformat": 4,
 "nbformat_minor": 2
}
