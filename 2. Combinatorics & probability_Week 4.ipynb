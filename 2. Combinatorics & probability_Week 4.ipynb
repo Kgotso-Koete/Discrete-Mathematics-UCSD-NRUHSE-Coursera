{
 "cells": [
  {
   "cell_type": "markdown",
   "metadata": {
    "collapsed": true
   },
   "source": [
    "# Concentration for Galton Board"
   ]
  },
  {
   "cell_type": "markdown",
   "metadata": {},
   "source": [
    "What is the fraction of beans that end near the center (bins 40-60 among 0-100) for the ideal Galton board with 100 layers? (You may try to write a program, or use some scientific computations tool. For such a problem wolfram alpha should be enough.)"
   ]
  },
  {
   "cell_type": "code",
   "execution_count": 12,
   "metadata": {},
   "outputs": [
    {
     "data": {
      "text/plain": [
       "0.9647997997822954"
      ]
     },
     "execution_count": 12,
     "metadata": {},
     "output_type": "execute_result"
    }
   ],
   "source": [
    "def pascal_triangle(n,r=[]):\n",
    "    ''' source: '''\n",
    "    for x in range(n):\n",
    "        l = len(r)\n",
    "        r = [1 if i == 0 or i == l else r[i-1]+r[i] for i in range(l+1)]\n",
    "        yield r\n",
    "\n",
    "def galton_board(level, intv_1, intv_2):\n",
    "    \n",
    "    # create list of last row in pascal's triangle \n",
    "    pascal_list = list(pascal_triangle(level))[level - 1] \n",
    "\n",
    "    # convert pascal's triangel into a probabilty triangle\n",
    "    prob_list = list(map(lambda x: x/(2**(level - 1)), pascal_list))\n",
    "    \n",
    "    # calculate the probability falling in the range\n",
    "    final_prob = sum(prob_list[intv_1:intv_2 + 1])\n",
    "    \n",
    "    return final_prob\n",
    "\n",
    "galton_board(100, 40, 60)"
   ]
  },
  {
   "cell_type": "markdown",
   "metadata": {},
   "source": [
    "What is the fraction of beans that end near the center (bins 400-600 among 0-1000) for the ideal Galton board with 1000 layers? (You may try to write a program, or use some scientific computations tool. For such a problem wolfram alpha should be enough.)"
   ]
  },
  {
   "cell_type": "code",
   "execution_count": 13,
   "metadata": {},
   "outputs": [
    {
     "data": {
      "text/plain": [
       "0.9999999998198321"
      ]
     },
     "execution_count": 13,
     "metadata": {},
     "output_type": "execute_result"
    }
   ],
   "source": [
    "galton_board(1000, 400, 600)"
   ]
  },
  {
   "cell_type": "markdown",
   "metadata": {},
   "source": [
    "# Computing Probabilities for Two Dice"
   ]
  },
  {
   "cell_type": "markdown",
   "metadata": {},
   "source": [
    "Consider again the setting with red and blue dice where all 36 pairs are equiprobable. Consider the event \"red and blue numbers are different\". How many favourable outcomes do we have for this event (out of 36)"
   ]
  },
  {
   "cell_type": "code",
   "execution_count": 58,
   "metadata": {},
   "outputs": [],
   "source": [
    "from math import factorial\n",
    "\n",
    "def n_choose_k(n,k):\n",
    "    ''' source = https://stackoverflow.com/a/32456073/6556133 '''\n",
    "    f = factorial\n",
    "    return f(n) / f(k) / f(n-k)\n",
    "\n",
    "def k_permutations(n, k):\n",
    "    f = factorial\n",
    "    return f(n) / f(n - k)\n",
    "\n",
    "def combination_with_rep(n, k):\n",
    "    return n_choose_k(k + (n-1), (n-1))"
   ]
  },
  {
   "cell_type": "code",
   "execution_count": 29,
   "metadata": {},
   "outputs": [
    {
     "data": {
      "text/plain": [
       "30"
      ]
     },
     "execution_count": 29,
     "metadata": {},
     "output_type": "execute_result"
    }
   ],
   "source": [
    "from itertools import product\n",
    "from itertools import combinations\n",
    "\n",
    "def dice_1():\n",
    "    \n",
    "    List_1 = ['1','2','3','4','5','6']\n",
    "    List_2 = ['1','2','3','4','5','6']\n",
    "    \n",
    "    # get the combined list of cartesian products\n",
    "    combined = list(product(List_1, List_2))\n",
    "    \n",
    "    # get the list where red and blue numbers are different\n",
    "    final = [(x[0], x[1]) for x in combined if x[0] != x[1]]\n",
    "    \n",
    "    return len(final)\n",
    "\n",
    "dice_1()"
   ]
  },
  {
   "cell_type": "markdown",
   "metadata": {},
   "source": [
    "In the same setting with 36 (red, blue) outcomes we consider the sum of two numbers (on two dice). What is the most probable value of this sum?"
   ]
  },
  {
   "cell_type": "code",
   "execution_count": 59,
   "metadata": {},
   "outputs": [
    {
     "name": "stdout",
     "output_type": "stream",
     "text": [
      "[('1', '1'), ('1', '2'), ('1', '3'), ('1', '4'), ('1', '5'), ('1', '6'), ('2', '1'), ('2', '2'), ('2', '3'), ('2', '4'), ('2', '5'), ('2', '6'), ('3', '1'), ('3', '2'), ('3', '3'), ('3', '4'), ('3', '5'), ('3', '6'), ('4', '1'), ('4', '2'), ('4', '3'), ('4', '4'), ('4', '5'), ('4', '6'), ('5', '1'), ('5', '2'), ('5', '3'), ('5', '4'), ('5', '5'), ('5', '6'), ('6', '1'), ('6', '2'), ('6', '3'), ('6', '4'), ('6', '5'), ('6', '6')]\n"
     ]
    },
    {
     "data": {
      "text/plain": [
       "7"
      ]
     },
     "execution_count": 59,
     "metadata": {},
     "output_type": "execute_result"
    }
   ],
   "source": [
    "from itertools import product\n",
    "from itertools import combinations\n",
    "from collections import Counter\n",
    "\n",
    "def dice_2():\n",
    "    \n",
    "    List_1 = ['1','2','3','4','5','6']\n",
    "    List_2 = ['1','2','3','4','5','6']\n",
    "    \n",
    "    # get the combined list of cartesian products\n",
    "    combined = list(product(List_1, List_2))\n",
    "    print(combined)\n",
    "    \n",
    "    # get the list where red and blue numbers are different\n",
    "    sum_list = [int(x[0]) + int(x[1]) for x in combined]\n",
    "    \n",
    "    # create dictionary of numbers and the most common sums\n",
    "    count_list = Counter(sum_list)\n",
    "    most_common = count_list.most_common(1)[0][0]\n",
    "    \n",
    "    return most_common\n",
    "\n",
    "dice_2()"
   ]
  },
  {
   "cell_type": "markdown",
   "metadata": {},
   "source": [
    "What is more probable while rolling two dice: to get at least one six, or to have no sixes?"
   ]
  },
  {
   "cell_type": "code",
   "execution_count": 47,
   "metadata": {},
   "outputs": [
    {
     "data": {
      "text/plain": [
       "(25, 11)"
      ]
     },
     "execution_count": 47,
     "metadata": {},
     "output_type": "execute_result"
    }
   ],
   "source": [
    "from itertools import product\n",
    "from itertools import combinations\n",
    "from collections import Counter\n",
    "\n",
    "def dice_2():\n",
    "    \n",
    "    List_1 = ['1','2','3','4','5','6']\n",
    "    List_2 = ['1','2','3','4','5','6']\n",
    "    \n",
    "    # get the combined list of cartesian products\n",
    "    combined = list(product(List_1, List_2))\n",
    "    \n",
    "    # get the list where none of the numbers are 6\n",
    "    no_sixes = [(x[0], x[1]) for x in combined if x[0] != '6' and x[1] != '6']\n",
    "    \n",
    "    # get the list where at least 1 of the numbers are 6\n",
    "    one_six = [(x[0], x[1]) for x in combined if x[0] == '6' or x[1] == '6']\n",
    "    \n",
    "    return (len(no_sixes), len(one_six))\n",
    "\n",
    "dice_2()"
   ]
  },
  {
   "cell_type": "markdown",
   "metadata": {},
   "source": [
    "# Computing Probabilities: More Examples"
   ]
  },
  {
   "cell_type": "markdown",
   "metadata": {},
   "source": [
    "Six people, including A,B, and C, form a queue in a random order (all 6! orderings are equiprobable). Consider the event \"A is the first in the queue\". (This event does not mention B, C or other people in the queue: they will appear in the other questions.) What is its probability?\n",
    "\n"
   ]
  },
  {
   "cell_type": "code",
   "execution_count": 27,
   "metadata": {},
   "outputs": [
    {
     "data": {
      "text/plain": [
       "(0.16666666666666666, True, 0.16666666666666666)"
      ]
     },
     "execution_count": 27,
     "metadata": {},
     "output_type": "execute_result"
    }
   ],
   "source": [
    "from itertools import permutations\n",
    "\n",
    "def quiz_q1():\n",
    "    \n",
    "    List = ['A','B','C','D','E','F']\n",
    "    n = len(List)\n",
    "    k = 6\n",
    "    \n",
    "    result = list(permutations(List, k))\n",
    "    #print(*result)\n",
    "    \n",
    "    count = 0\n",
    "    \n",
    "    for combination in result:\n",
    "        if combination[0] == 'A':\n",
    "            count += 1\n",
    "    \n",
    "    prog_answer = count / len(result)\n",
    "    formua_answer = k_permutations(n - 1, k - 1) / k_permutations(n, k)\n",
    "            \n",
    "    return (prog_answer, prog_answer == formua_answer, formua_answer)\n",
    "\n",
    "quiz_q1()"
   ]
  },
  {
   "cell_type": "markdown",
   "metadata": {},
   "source": [
    "Again six people, including A,B, and C, form a queue in a random order (all 6! orderings are equiprobable). Consider the event \"A precedes B in the queue\". (Again this event does not mention C or other people in the queue.) What is its probability?"
   ]
  },
  {
   "cell_type": "code",
   "execution_count": 9,
   "metadata": {},
   "outputs": [
    {
     "data": {
      "text/plain": [
       "0.5"
      ]
     },
     "execution_count": 9,
     "metadata": {},
     "output_type": "execute_result"
    }
   ],
   "source": [
    "from itertools import permutations\n",
    "\n",
    "def quiz_q2():\n",
    "    \n",
    "    List = ['A','B','C','D','E','F']\n",
    "    n = len(List)\n",
    "    k = 6\n",
    "    \n",
    "    result = list(permutations(List, k))\n",
    "    #print(*result)\n",
    "    \n",
    "    a_count = 0\n",
    "    b_count = 0\n",
    "    \n",
    "    for combination in result:\n",
    "        b_index = combination.index('B')\n",
    "        a_index = combination.index('A')\n",
    "        \n",
    "        if a_index == (b_index - 1):\n",
    "            a_count += 1\n",
    "        if b_index == (a_index - 1):\n",
    "            b_count += 1\n",
    "    \n",
    "    prog_answer = a_count / (a_count + b_count)\n",
    "            \n",
    "    return prog_answer\n",
    "\n",
    "quiz_q2()"
   ]
  },
  {
   "cell_type": "markdown",
   "metadata": {},
   "source": [
    "Again six people, including A,B, and C, form a queue in a random order (all 6! orderings are equiprobable). Consider the event \"B is between A and C in the queue\". What is its probability? (The order of A and C can be arbitrary, but B should be between them)"
   ]
  },
  {
   "cell_type": "code",
   "execution_count": 50,
   "metadata": {},
   "outputs": [
    {
     "data": {
      "text/plain": [
       "(0.3333333333333333, True, 0.3333333333333333)"
      ]
     },
     "execution_count": 50,
     "metadata": {},
     "output_type": "execute_result"
    }
   ],
   "source": [
    "from itertools import permutations\n",
    "\n",
    "def quiz_q3():\n",
    "    \n",
    "    List = ['A','B','C']\n",
    "    n = len(List)\n",
    "    k = 3\n",
    "    \n",
    "    result = list(permutations(List, k))\n",
    "    #print(*result)\n",
    "    \n",
    "    count = 0\n",
    "    \n",
    "    for combination in result:\n",
    "        if combination[2] == 'B':\n",
    "            count += 1\n",
    "    \n",
    "    prog_answer = count / len(result)\n",
    "    formua_answer = k_permutations(n - 1, k - 1) / k_permutations(n, k)\n",
    "            \n",
    "    return (prog_answer, prog_answer == formua_answer, formua_answer)\n",
    "\n",
    "quiz_q3()"
   ]
  },
  {
   "cell_type": "markdown",
   "metadata": {},
   "source": [
    "Again six people, including A,B, and C, form a queue in a random order (all 6! orderings are equiprobable). Consider the event \"A and B are neighbors in the queue\". What is its probability?"
   ]
  },
  {
   "cell_type": "code",
   "execution_count": 56,
   "metadata": {},
   "outputs": [
    {
     "name": "stdout",
     "output_type": "stream",
     "text": [
      "('A', 'B', 'C') ('A', 'C', 'B') ('B', 'A', 'C') ('B', 'C', 'A') ('C', 'A', 'B') ('C', 'B', 'A')\n"
     ]
    },
    {
     "data": {
      "text/plain": [
       "(0.3333333333333333, True, 0.3333333333333333)"
      ]
     },
     "execution_count": 56,
     "metadata": {},
     "output_type": "execute_result"
    }
   ],
   "source": [
    "from itertools import permutations\n",
    "\n",
    "def quiz_q4():\n",
    "    \n",
    "    List = ['A','B','C']\n",
    "    n = len(List)\n",
    "    k = 3\n",
    "    \n",
    "    result = list(permutations(List, k))\n",
    "    print(*result)\n",
    "    \n",
    "    count = 0\n",
    "    \n",
    "    for combination in result:\n",
    "        if combination[0] == 'A' and combination[2] == 'B' or combination[0] == 'B' and combination[2] == 'A' :\n",
    "            count += 1\n",
    "    \n",
    "    prog_answer = count / len(result)\n",
    "    formua_answer = k_permutations(n - 1, k - 1) / k_permutations(n, k)\n",
    "            \n",
    "    return (prog_answer, prog_answer == formua_answer, formua_answer)\n",
    "\n",
    "quiz_q4()"
   ]
  },
  {
   "cell_type": "markdown",
   "metadata": {},
   "source": [
    "# Computing Conditional Probabilities"
   ]
  },
  {
   "cell_type": "markdown",
   "metadata": {},
   "source": [
    "We roll a dice with 6 equiprobable outcomes. Compute the conditional probability Pr[outcome is odd∣outcome is even]"
   ]
  },
  {
   "cell_type": "code",
   "execution_count": 7,
   "metadata": {},
   "outputs": [
    {
     "data": {
      "text/plain": [
       "0"
      ]
     },
     "execution_count": 7,
     "metadata": {},
     "output_type": "execute_result"
    }
   ],
   "source": [
    "def cond_prob_1():\n",
    "    \n",
    "    List = ['1','2','3','4','5','6']\n",
    "\n",
    "    even_count = [x for x in List if int(x) % 2 == 0]\n",
    "    odd_count = [x for x in List if int(x) % 2 != 0]\n",
    "    \n",
    "    odd_given_even = list(set(even_count) & set(odd_count))\n",
    "    \n",
    "    return len(odd_given_even)\n",
    "\n",
    "cond_prob_1()"
   ]
  },
  {
   "cell_type": "markdown",
   "metadata": {},
   "source": [
    "Six people form a queue, including A and B (all 6! orderings are equiprobable). What is the probability that B is before A under the condition that A is not the first?"
   ]
  },
  {
   "cell_type": "code",
   "execution_count": 24,
   "metadata": {},
   "outputs": [
    {
     "data": {
      "text/plain": [
       "0.6"
      ]
     },
     "execution_count": 24,
     "metadata": {},
     "output_type": "execute_result"
    }
   ],
   "source": [
    "from itertools import permutations\n",
    "\n",
    "def cond_prob_2():\n",
    "    ''' \n",
    "    The event \"B is before A\" is a part of the event \"A is not the first\"; \n",
    "    So the answer is Pr[B is before A]/Pr[A is not the first]=(1/2)/(5/6)=3/5\n",
    "    '''\n",
    "    \n",
    "    List = ['A','B','C','D','E','F']\n",
    "    n = len(List)\n",
    "    k = 6\n",
    "    \n",
    "    result = list(permutations(List, k))\n",
    "\n",
    "    a_count = 0\n",
    "    b_count = 0\n",
    "    \n",
    "    for combination in result:\n",
    "        b_index = combination.index('B')\n",
    "        a_index = combination.index('A')\n",
    "        \n",
    "        # if A is not the first\n",
    "        if a_index != 0:\n",
    "            \n",
    "            a_count += 1\n",
    "            \n",
    "            if b_index < a_index:\n",
    "                b_count += 1\n",
    "    \n",
    "    prog_answer = b_count / a_count\n",
    "            \n",
    "    return prog_answer\n",
    "\n",
    "cond_prob_2()"
   ]
  },
  {
   "cell_type": "markdown",
   "metadata": {},
   "source": [
    "We roll two dice (all 36 outcomes are equiprobable). What is the conditional probability to have 1 on the first dice under the condition that the sum of two numbers is 6?"
   ]
  },
  {
   "cell_type": "code",
   "execution_count": 18,
   "metadata": {},
   "outputs": [
    {
     "data": {
      "text/plain": [
       "0.2"
      ]
     },
     "execution_count": 18,
     "metadata": {},
     "output_type": "execute_result"
    }
   ],
   "source": [
    "from itertools import product\n",
    "\n",
    "def cond_prob_3():\n",
    "    \n",
    "    List_1 = [1, 2, 3, 4, 5, 6]\n",
    "    List_2 = [1, 2, 3, 4, 5, 6]\n",
    "    \n",
    "    # get the combined list of cartesian products\n",
    "    combined = list(product(List_1, List_2))\n",
    "    \n",
    "    # get the list where nums add up to 6\n",
    "    sums = [(x[0], x[1]) for x in combined if x[0] + x[1] == 6]\n",
    "    target = [(x[0], x[1]) for x in combined if x[0] + x[1] == 6 and x[0] == 1]\n",
    "    \n",
    "    return len(target)/len(sums)\n",
    "\n",
    "cond_prob_3()"
   ]
  },
  {
   "cell_type": "markdown",
   "metadata": {},
   "source": [
    "Recall the puzzle about the prisoner and the king. Imagine that the prisoner puts 1 white ball in one box, and 14 white and 15 black balls in the other box. Then the king chooses a random box and then chooses a random ball inside this box. What is the conditional probability of the event \"the king chooses the second box\" under the condition \"the ball chosen by the king was white\"?\n",
    "\n"
   ]
  },
  {
   "cell_type": "code",
   "execution_count": 47,
   "metadata": {},
   "outputs": [
    {
     "data": {
      "text/plain": [
       "0.32558139534883723"
      ]
     },
     "execution_count": 47,
     "metadata": {},
     "output_type": "execute_result"
    }
   ],
   "source": [
    "def cond_prob_4():\n",
    "    \n",
    "    box_1 = ['B'] * 15 + ['W'] * 14\n",
    "    box_2 = ['B'] * 0 + ['W'] * 1\n",
    "    \n",
    "    p_ball_box_1 = 1/len(box_1) * (1/2)\n",
    "    p_ball_box_2 = 1/len(box_2) * (1/2)\n",
    "    \n",
    "    # probability of drawing a white ball\n",
    "    p_white_any_box = (box_1.count('W') * p_ball_box_1) +  (box_2.count('W') * p_ball_box_2) \n",
    "    \n",
    "    # king chooses the white ball from the second box\"\n",
    "    p_white_from_box_1 = box_1.count('W')/len(box_1) * (1/2)\n",
    "    \n",
    "    # \"the king chooses the second box\" under the condition \"the ball chosen by the king was white\"\n",
    "    answer = p_white_from_box_1/ p_white_any_box \n",
    "    \n",
    "    return answer\n",
    "    \n",
    "cond_prob_4()"
   ]
  },
  {
   "cell_type": "markdown",
   "metadata": {},
   "source": [
    "# Prisoner, King and Conditional Probabilities"
   ]
  },
  {
   "cell_type": "markdown",
   "metadata": {},
   "source": [
    "There are two boxes; the first one contains 10 white balls and 5 black balls; the other one contains 10 black balls and 5 white balls. King randomly selects a box (with equal probabilities) and then randomly takes a ball from this box (with equal probabilities). What is the probability that King selected the first box under the condition that the ball he selected is white?"
   ]
  },
  {
   "cell_type": "code",
   "execution_count": 52,
   "metadata": {},
   "outputs": [
    {
     "data": {
      "text/plain": [
       "0.6666666666666666"
      ]
     },
     "execution_count": 52,
     "metadata": {},
     "output_type": "execute_result"
    }
   ],
   "source": [
    "def cond_prob_5():\n",
    "    \n",
    "    box_1 = ['B'] * 5 + ['W'] * 10\n",
    "    box_2 = ['B'] * 10 + ['W'] * 5\n",
    "    \n",
    "    p_ball_box_1 = 1/len(box_1) * (1/2)\n",
    "    p_ball_box_2 = 1/len(box_2) * (1/2)\n",
    "    \n",
    "    # probability of drawing a white ball\n",
    "    p_white_any_box = (box_1.count('W') * p_ball_box_1) +  (box_2.count('W') * p_ball_box_2) \n",
    "    \n",
    "    # king chooses the white ball from the second box\"\n",
    "    p_white_from_box_1 = box_1.count('W')/len(box_1)\n",
    "    \n",
    "    # probability that any box will be chosen\n",
    "    p_any_box_chosen = 1/2\n",
    "    \n",
    "    # King selected the first box under the condition that the ball he selected is white\n",
    "    answer = (p_white_from_box_1/ p_white_any_box) * p_any_box_chosen \n",
    "    \n",
    "    return answer\n",
    "    \n",
    "cond_prob_5()"
   ]
  }
 ],
 "metadata": {
  "kernelspec": {
   "display_name": "Python 3.6",
   "language": "python",
   "name": "python36"
  },
  "language_info": {
   "codemirror_mode": {
    "name": "ipython",
    "version": 3
   },
   "file_extension": ".py",
   "mimetype": "text/x-python",
   "name": "python",
   "nbconvert_exporter": "python",
   "pygments_lexer": "ipython3",
   "version": "3.6.3"
  }
 },
 "nbformat": 4,
 "nbformat_minor": 2
}
