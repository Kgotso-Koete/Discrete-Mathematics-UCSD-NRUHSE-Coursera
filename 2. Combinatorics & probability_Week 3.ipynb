{
 "cells": [
  {
   "cell_type": "markdown",
   "metadata": {
    "collapsed": true
   },
   "source": [
    "# Salads"
   ]
  },
  {
   "cell_type": "markdown",
   "metadata": {},
   "source": [
    "We have an unlimited supply of tomatoes, bell peppers and lettuce. We want to make a salad out of 4 units among these three ingredients (we do not have to use all ingredients). The order in which we use the ingredients does not matter. How many different salads we can make?\n",
    "\n",
    "We do not have the formula to answer this question yet, so try to list all the salads first or create a program that will do that for you. Then you can count the number of salads by hand (note the answer to the problem should be the number)."
   ]
  },
  {
   "cell_type": "code",
   "execution_count": 4,
   "metadata": {},
   "outputs": [],
   "source": [
    "from math import factorial\n",
    "\n",
    "def n_choose_k(n,k):\n",
    "    ''' source = https://stackoverflow.com/a/32456073/6556133 '''\n",
    "    f = factorial\n",
    "    return f(n) / f(k) / f(n-k)\n",
    "\n",
    "def k_permutations(n, k):\n",
    "    f = factorial\n",
    "    return f(n) / f(n - k)\n",
    "\n",
    "def combination_with_rep(n, k):\n",
    "    return n_choose_k(k + (n-1), (n-1))"
   ]
  },
  {
   "cell_type": "code",
   "execution_count": 20,
   "metadata": {},
   "outputs": [
    {
     "data": {
      "text/plain": [
       "(15, True, 15.0)"
      ]
     },
     "execution_count": 20,
     "metadata": {},
     "output_type": "execute_result"
    }
   ],
   "source": [
    "from itertools import combinations_with_replacement\n",
    "from math import factorial\n",
    "\n",
    "def salads():\n",
    "\n",
    "    List = \"TBL\"\n",
    "    k = 4\n",
    "    n = len(List)\n",
    "    cnt = 0\n",
    "\n",
    "    for c in combinations_with_replacement(List, k):\n",
    "        #print(\"\".join(c))\n",
    "        cnt += 1\n",
    "    \n",
    "    formua_answer = combination_with_rep(n, k)\n",
    "    \n",
    "    return (cnt, cnt == formua_answer , formua_answer)\n",
    "\n",
    "salads()"
   ]
  },
  {
   "cell_type": "markdown",
   "metadata": {},
   "source": [
    "# Combinations with Repetitions"
   ]
  },
  {
   "cell_type": "markdown",
   "metadata": {},
   "source": [
    "Twenty people are voting for one of 5 candidates. They have secret ballot, each voter votes for one of 5 candidates. The result of an election is the number of votes for each of the candidate. How many possible results can this vote have?"
   ]
  },
  {
   "cell_type": "code",
   "execution_count": 21,
   "metadata": {},
   "outputs": [
    {
     "data": {
      "text/plain": [
       "(10626, True, 10626.0)"
      ]
     },
     "execution_count": 21,
     "metadata": {},
     "output_type": "execute_result"
    }
   ],
   "source": [
    "def candidates():\n",
    "    \n",
    "    List = \"ABCDE\"\n",
    "    n = len(List)\n",
    "    k = 20\n",
    "    cnt = 0\n",
    "\n",
    "    for c in combinations_with_replacement(List, k):\n",
    "        #print(\"\".join(c))\n",
    "        cnt += 1\n",
    "    \n",
    "    formua_answer = combination_with_rep(n, k)\n",
    "    \n",
    "    return (cnt, cnt == formua_answer, formua_answer)\n",
    "    \n",
    "candidates()"
   ]
  },
  {
   "cell_type": "markdown",
   "metadata": {},
   "source": [
    "We have 9 identical candies and we want to distribute them between 3 different sections of our bag. It does not matter which candies go to which section. How many ways do we have to do it?"
   ]
  },
  {
   "cell_type": "code",
   "execution_count": 22,
   "metadata": {},
   "outputs": [
    {
     "data": {
      "text/plain": [
       "(55, True, 55.0)"
      ]
     },
     "execution_count": 22,
     "metadata": {},
     "output_type": "execute_result"
    }
   ],
   "source": [
    "def give_9_candies():\n",
    "    \n",
    "    List = \"123\"\n",
    "    n = len(List)\n",
    "    k = 9\n",
    "    cnt = 0\n",
    "\n",
    "    for c in combinations_with_replacement(List, k):\n",
    "        #print(\"\".join(c))\n",
    "        cnt += 1\n",
    "    \n",
    "    formua_answer = combination_with_rep(n, k)\n",
    "    \n",
    "    return (cnt, cnt == formua_answer , formua_answer)\n",
    "\n",
    "give_9_candies()"
   ]
  },
  {
   "cell_type": "markdown",
   "metadata": {},
   "source": [
    "# Distributing Assignments Among People"
   ]
  },
  {
   "cell_type": "markdown",
   "metadata": {},
   "source": [
    "Suppose there are 4 people and 9 different assignments. Each person should receive one assignment. Assignments for different people should be different. How many ways are there to do it?"
   ]
  },
  {
   "cell_type": "code",
   "execution_count": 57,
   "metadata": {},
   "outputs": [
    {
     "data": {
      "text/plain": [
       "(3024, True, 3024.0)"
      ]
     },
     "execution_count": 57,
     "metadata": {},
     "output_type": "execute_result"
    }
   ],
   "source": [
    "from itertools import permutations\n",
    "\n",
    "def assignments_1():\n",
    "    \n",
    "    List = \"123456789\"\n",
    "    n = len(List)\n",
    "    k = 4\n",
    "    cnt = 0\n",
    "\n",
    "    for a in permutations(List, k):\n",
    "        # print(\"\".join(a))\n",
    "        cnt += 1\n",
    "    \n",
    "    formua_answer = k_permutations(n, k)\n",
    "    \n",
    "    return (cnt, cnt == formua_answer, formua_answer)\n",
    "\n",
    "assignments_1()"
   ]
  },
  {
   "cell_type": "markdown",
   "metadata": {},
   "source": [
    "There are 4 people and 9 different assignments. We need to distribute all assignments among people. No assignment should be assigned to two people. Every person can be given arbitrary number of assignments from 0 to 9. How many ways are there to do it?"
   ]
  },
  {
   "cell_type": "code",
   "execution_count": 55,
   "metadata": {},
   "outputs": [
    {
     "data": {
      "text/plain": [
       "262144"
      ]
     },
     "execution_count": 55,
     "metadata": {},
     "output_type": "execute_result"
    }
   ],
   "source": [
    "def assignments_2():\n",
    "    return 4**9\n",
    "\n",
    "assignments_2()"
   ]
  },
  {
   "cell_type": "markdown",
   "metadata": {},
   "source": [
    "# Distributing Candies Among Kids"
   ]
  },
  {
   "cell_type": "markdown",
   "metadata": {},
   "source": [
    "There are 15 identical candies. How many ways are there to distribute them among 7 kids?"
   ]
  },
  {
   "cell_type": "code",
   "execution_count": 41,
   "metadata": {},
   "outputs": [
    {
     "data": {
      "text/plain": [
       "(54264, True, 54264.0)"
      ]
     },
     "execution_count": 41,
     "metadata": {},
     "output_type": "execute_result"
    }
   ],
   "source": [
    "from itertools import combinations_with_replacement\n",
    "\n",
    "def give_15_candies_1():\n",
    "    \n",
    "    List = ['1','2','3','4','5','6','7']\n",
    "    n = len(List)\n",
    "    k = 15\n",
    "    cnt = 0\n",
    "\n",
    "    for c in combinations_with_replacement(List, k):\n",
    "        #print(\"\".join(c))\n",
    "        cnt += 1\n",
    "    \n",
    "    formua_answer = combination_with_rep(n, k)\n",
    "    \n",
    "    return (cnt, cnt == formua_answer, formua_answer)\n",
    "\n",
    "give_15_candies_1()  "
   ]
  },
  {
   "cell_type": "markdown",
   "metadata": {},
   "source": [
    "There are 15 identical candies. How many ways are there to distribute them among 7 kids in such a way that each kid receives at least 1 candy?"
   ]
  },
  {
   "cell_type": "code",
   "execution_count": 69,
   "metadata": {},
   "outputs": [
    {
     "data": {
      "text/plain": [
       "(3003, True, 3003.0)"
      ]
     },
     "execution_count": 69,
     "metadata": {},
     "output_type": "execute_result"
    }
   ],
   "source": [
    "from itertools import permutations\n",
    "\n",
    "def give_15_candies_2():\n",
    "    \n",
    "    List = ['1','2','3','4','5','6','7']\n",
    "    n = len(List)\n",
    "    k = 8\n",
    "    cnt = 0\n",
    "\n",
    "    for c in combinations_with_replacement(List, k):\n",
    "        #print(\"\".join(c))\n",
    "        cnt += 1\n",
    "    \n",
    "    formua_answer = combination_with_rep(n, k)\n",
    "    \n",
    "    return (cnt, cnt == formua_answer, formua_answer)\n",
    "\n",
    "\n",
    "give_15_candies_2()"
   ]
  },
  {
   "cell_type": "markdown",
   "metadata": {},
   "source": [
    "# Numbers with Fixed Sum of Digits"
   ]
  },
  {
   "cell_type": "markdown",
   "metadata": {},
   "source": [
    "How many non-negative integer numbers are there below 10000 such that their sum of digits is equal to 9?"
   ]
  },
  {
   "cell_type": "code",
   "execution_count": 145,
   "metadata": {},
   "outputs": [
    {
     "data": {
      "text/plain": [
       "(220, True, 220.0)"
      ]
     },
     "execution_count": 145,
     "metadata": {},
     "output_type": "execute_result"
    }
   ],
   "source": [
    "from itertools import product\n",
    "\n",
    "def sum_to_9():\n",
    "    '''\n",
    "    If we treat each positive integer with fewer than 4 digits \n",
    "    as a 4-digit string with leading zeros, we seek the number of solutions of the equation a+b+c+d = 9 \n",
    "    A particular solution of equation 1 corresponds to the placement of 3 addition signs in a row of 19 ones. \n",
    "    For instance,111 + 11 + '' + 1111 corresponds to the solution a=3, b=2, c=0, d=4 \n",
    "    The number of solutions is equal to the number of ways we can insert 3 addition signs into a row of 9 ones, \n",
    "    which is (9 + 3) choose (3).\n",
    "    \n",
    "    Source: https://math.stackexchange.com/a/2028991/441978 \n",
    "    '''\n",
    "    \n",
    "    n = 9\n",
    "    k = 4\n",
    "    cnt = 0\n",
    "\n",
    "    for d in product(range(10), repeat = 4):\n",
    "        if sum(d) == 9:\n",
    "            #print(d)\n",
    "            cnt += 1\n",
    "    \n",
    "    formua_answer = combination_with_rep(k, n)\n",
    "    \n",
    "    return (cnt, cnt == formua_answer, formua_answer)\n",
    "\n",
    "\n",
    "sum_to_9()"
   ]
  },
  {
   "cell_type": "markdown",
   "metadata": {},
   "source": [
    "How many non-negative integer numbers are there below 10000 such that their sum of digits is equal to 10?"
   ]
  },
  {
   "cell_type": "code",
   "execution_count": 149,
   "metadata": {},
   "outputs": [
    {
     "data": {
      "text/plain": [
       "(282, True, 282.0)"
      ]
     },
     "execution_count": 149,
     "metadata": {},
     "output_type": "execute_result"
    }
   ],
   "source": [
    "from itertools import product\n",
    "\n",
    "def sum_to_10():\n",
    "    \n",
    "    n = 10\n",
    "    k = 4\n",
    "    cnt = 0\n",
    "\n",
    "    for d in product(range(10), repeat = 4):\n",
    "        if sum(d) == 10:\n",
    "            #print(d)\n",
    "            cnt += 1\n",
    "    \n",
    "    formua_answer = combination_with_rep(k, n) - 4\n",
    "    \n",
    "    return (cnt, cnt == formua_answer, formua_answer)\n",
    "\n",
    "\n",
    "sum_to_10()"
   ]
  },
  {
   "cell_type": "markdown",
   "metadata": {},
   "source": [
    "# Problems in Combinatorics"
   ]
  },
  {
   "cell_type": "markdown",
   "metadata": {},
   "source": [
    "Alice has 7 different textbooks. She would like to lend three books to Bob for a weekend. How many ways does she have to do it?"
   ]
  },
  {
   "cell_type": "code",
   "execution_count": 161,
   "metadata": {},
   "outputs": [
    {
     "data": {
      "text/plain": [
       "(35, True, 35.0)"
      ]
     },
     "execution_count": 161,
     "metadata": {},
     "output_type": "execute_result"
    }
   ],
   "source": [
    "from itertools import combinations\n",
    "\n",
    "def quiz_q1():\n",
    "    \n",
    "    List = ['1','2','3','4','5','6','7']\n",
    "    n = len(List)\n",
    "    k = 3\n",
    "    cnt = 0\n",
    "\n",
    "    result = list(combinations(List, 3))\n",
    "    #print(*result)\n",
    "    \n",
    "    cnt = len(result)\n",
    "    \n",
    "    formua_answer = n_choose_k(n, k)\n",
    "    \n",
    "    return (cnt, cnt == formua_answer, formua_answer)\n",
    "\n",
    "quiz_q1()"
   ]
  },
  {
   "cell_type": "markdown",
   "metadata": {},
   "source": [
    "Alice has 7 textbooks and Bob has 5 textbooks. All textbooks are different. They would like to exchange three books each between each other for a weekend. That is, Alice gives Bob three of her books and Bob gives Alice three of his books. How many ways do they have to do it?"
   ]
  },
  {
   "cell_type": "code",
   "execution_count": 171,
   "metadata": {},
   "outputs": [
    {
     "data": {
      "text/plain": [
       "(350, True, 350.0)"
      ]
     },
     "execution_count": 171,
     "metadata": {},
     "output_type": "execute_result"
    }
   ],
   "source": [
    "from itertools import combinations\n",
    "\n",
    "def quiz_q2():\n",
    "    \n",
    "    List_1 = ['1','2','3','4','5','6','7']\n",
    "    List_2 = ['A','B','C','D','E']\n",
    "    perm_1 = list(combinations(List_1, 3)) \n",
    "    perm_2 = list(combinations(List_2, 3)) \n",
    "    combined_perm = perm_1 + perm_2\n",
    "    \n",
    "    #print(*combined_perm)\n",
    "    \n",
    "    k = 3\n",
    "    cnt = len(perm_1) * len(perm_2)\n",
    "    formua_answer = n_choose_k(len(List_1), k) * n_choose_k(len(List_2), k) \n",
    "    \n",
    "    return (cnt, cnt == formua_answer, formua_answer)\n",
    "\n",
    "quiz_q2()"
   ]
  },
  {
   "cell_type": "markdown",
   "metadata": {},
   "source": [
    "Five married couples are planning a barbecue. They need to pick three couples who will be responsible for bringing food. How many ways do they have to do it?"
   ]
  },
  {
   "cell_type": "code",
   "execution_count": 211,
   "metadata": {},
   "outputs": [
    {
     "data": {
      "text/plain": [
       "(10, True, 10.0)"
      ]
     },
     "execution_count": 211,
     "metadata": {},
     "output_type": "execute_result"
    }
   ],
   "source": [
    "from itertools import combinations\n",
    "\n",
    "def quiz_q3():\n",
    "    \n",
    "    List = ['1','2','3','4','5']\n",
    "    n = len(List)\n",
    "    k = 3\n",
    "    cnt = 0\n",
    "\n",
    "    result = list(combinations(List, 3))\n",
    "    #print(*result)\n",
    "    \n",
    "    cnt = len(result)\n",
    "    \n",
    "    formua_answer = n_choose_k(n, k)\n",
    "    \n",
    "    return (cnt, cnt == formua_answer, formua_answer)\n",
    "\n",
    "quiz_q3()"
   ]
  },
  {
   "cell_type": "markdown",
   "metadata": {},
   "source": [
    "Five married couples are planning a barbecue. They need to hold a meeting dedicated to the planning. The meeting should consist of five people, one from each couple. How many possible ways do they have to pick people for the meeting?"
   ]
  },
  {
   "cell_type": "code",
   "execution_count": 212,
   "metadata": {},
   "outputs": [
    {
     "data": {
      "text/plain": [
       "(32, True, 32)"
      ]
     },
     "execution_count": 212,
     "metadata": {},
     "output_type": "execute_result"
    }
   ],
   "source": [
    "from itertools import product\n",
    "\n",
    "def quiz_q4():\n",
    "    \n",
    "    List = ['0','1']\n",
    "    result = list(product(List, repeat = 5))\n",
    "    \n",
    "    formua_answer = 2**5\n",
    "    \n",
    "    return (len(result), len(result) == formua_answer, formua_answer )\n",
    "\n",
    "quiz_q4()"
   ]
  },
  {
   "cell_type": "markdown",
   "metadata": {},
   "source": [
    "Five married couples gathered for a barbecue. They need to pick three people among them who will be responsible for preparing the table. But they do not want to pick two people from the same couple for this (this would not be fair). How many ways do they have to pick three people satisfying this requirement?"
   ]
  },
  {
   "cell_type": "code",
   "execution_count": 5,
   "metadata": {},
   "outputs": [
    {
     "data": {
      "text/plain": [
       "(80, True, 80.0)"
      ]
     },
     "execution_count": 5,
     "metadata": {},
     "output_type": "execute_result"
    }
   ],
   "source": [
    "from itertools import product\n",
    "from itertools import combinations\n",
    "\n",
    "def quiz_q5():\n",
    "    \n",
    "    List_1 = ['1','2','3','4','5']\n",
    "    perm_1 = list(combinations(List_1, 3))\n",
    "    \n",
    "    List_2 = ['0','1']\n",
    "    perm_2 = list(product(List_2, repeat = 3))\n",
    "    \n",
    "    combined = list(product(perm_1, perm_2))\n",
    "    cnt = len(combined)\n",
    "    \n",
    "    formua_answer = n_choose_k(len(List_1), 3) * (2**3)\n",
    " \n",
    "    return (cnt, cnt == formua_answer, formua_answer)\n",
    "\n",
    "quiz_q5()"
   ]
  },
  {
   "cell_type": "markdown",
   "metadata": {},
   "source": [
    "In a 6 number lottery one is trying to guess an unordered subset of 6 numbers among 44 numbers without repetitions. For this one picks 6 numbers out of 44 himself. How many ways are there to do this? You can use wolfram alpha to compute the exact number.\n",
    "\n"
   ]
  },
  {
   "cell_type": "code",
   "execution_count": 15,
   "metadata": {},
   "outputs": [
    {
     "data": {
      "text/plain": [
       "(7059052, True, 7059052.0)"
      ]
     },
     "execution_count": 15,
     "metadata": {},
     "output_type": "execute_result"
    }
   ],
   "source": [
    "from itertools import permutations\n",
    "from itertools import combinations\n",
    "\n",
    "def quiz_q6():\n",
    "    \n",
    "    List = [1, 2, 3, 4, 5, 6, 7, 8, 9, 10, 11, 12, 13, 14, 15, 16, 17, 18, 19, 20,\n",
    "            21, 22, 23, 24, 25, 26, 27, 28, 29, 30, 31, 32, 33, 34, 35, 36, 37, 38, \n",
    "            39, 40, 41, 42, 43, 44]\n",
    "    \n",
    "    k = 6\n",
    "    perm_1 = list(combinations(List, k))\n",
    "    \n",
    "    cnt = len(perm_1)\n",
    "    formua_answer = n_choose_k(len(List), k)\n",
    " \n",
    "    return (cnt, cnt == formua_answer, formua_answer)\n",
    "    \n",
    "quiz_q6()"
   ]
  },
  {
   "cell_type": "markdown",
   "metadata": {},
   "source": [
    "In a 6 number lottery one is trying to guess an unordered subset of 6 numbers among 44 numbers without repetitions. After the lottery the organisers decided to count how many possible ways are there to guess correctly exactly three numbers. What is the answer to this question? You can use wolfram alpha to compute the exact number."
   ]
  },
  {
   "cell_type": "code",
   "execution_count": 23,
   "metadata": {},
   "outputs": [
    {
     "data": {
      "text/plain": [
       "(168720, True, 168720.0)"
      ]
     },
     "execution_count": 23,
     "metadata": {},
     "output_type": "execute_result"
    }
   ],
   "source": [
    "from itertools import permutations\n",
    "from itertools import combinations\n",
    "\n",
    "def quiz_q7():\n",
    "    \n",
    "    List = [1, 2, 3, 4, 5, 6]\n",
    "    k = 3\n",
    "    perm_1 = list(combinations(List, k))\n",
    "    cnt_1 = len(perm_1)\n",
    "    formua_answer = n_choose_k(len(List), k)\n",
    "    \n",
    "    List_2 = [7, 8, 9, 10, 11, 12, 13, 14, 15, 16, 17, 18, 19, 20,\n",
    "            21, 22, 23, 24, 25, 26, 27, 28, 29, 30, 31, 32, 33, 34, 35, 36, 37, 38, \n",
    "            39, 40, 41, 42, 43, 44]\n",
    "    \n",
    "    k = 3\n",
    "    perm_2 = list(combinations(List_2, k))\n",
    "    cnt_2 = len(perm_2)\n",
    "    \n",
    "    cnt = cnt_1 * cnt_2\n",
    "    formua_answer = n_choose_k(len(List), 3) * n_choose_k(len(List_2), 3)\n",
    "    \n",
    "    return (cnt, cnt == formua_answer, formua_answer)\n",
    "    \n",
    "quiz_q7()"
   ]
  }
 ],
 "metadata": {
  "kernelspec": {
   "display_name": "Python 3.6",
   "language": "python",
   "name": "python36"
  },
  "language_info": {
   "codemirror_mode": {
    "name": "ipython",
    "version": 3
   },
   "file_extension": ".py",
   "mimetype": "text/x-python",
   "name": "python",
   "nbconvert_exporter": "python",
   "pygments_lexer": "ipython3",
   "version": "3.6.3"
  }
 },
 "nbformat": 4,
 "nbformat_minor": 2
}
