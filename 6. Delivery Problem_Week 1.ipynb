{
 "cells": [
  {
   "cell_type": "markdown",
   "metadata": {
    "collapsed": true
   },
   "source": [
    "# Cycle Weight"
   ]
  },
  {
   "cell_type": "markdown",
   "metadata": {},
   "source": [
    "Implement a function which takes a graph and a list of vertices in a Hamiltonian cycle, and returns the weight of this cycle."
   ]
  },
  {
   "cell_type": "code",
   "execution_count": 33,
   "metadata": {},
   "outputs": [
    {
     "name": "stdout",
     "output_type": "stream",
     "text": [
      "Program correct!\n"
     ]
    }
   ],
   "source": [
    "import networkx as nx\n",
    "\n",
    "def cycle_length(g, cycle):\n",
    "    # This function takes as input a graph g and a list of vertices of the cycle.\n",
    "    # (Each vertex given by its index starting from 0.)\n",
    "    # The graph is complete (i.e., each pair of distinct vertices is connected by an edge),\n",
    "    # undirected (i.e., the edge from u to v has the same weight as the edge from v to u),\n",
    "    # and has no self-loops (i.e., there are no edges from i to i).\n",
    "    #\n",
    "    # For example, a valid input would be a graph on 3 vertices and cycle = [2, 0, 1].\n",
    "    #\n",
    "    # The function should return the weight of the cycle.\n",
    "    # (Don't forget to add up the last edge connecting the last vertex of the cycle with the first one.)\n",
    "    #\n",
    "    # If you want to get the weight of the edge between vertices u and v, you can take g[u][v]['weight']\n",
    "\n",
    "\n",
    "    # Checking that the number of vertices in the graph equals the number of vertices in the cycle.\n",
    "    assert len(cycle) == g.number_of_nodes()\n",
    "    # Write your code here.\n",
    "    weight = 0\n",
    "    for i in range(1, len(cycle)):\n",
    "        weight += g[cycle[i-1]][cycle[i]]['weight']\n",
    "    \n",
    "    weight += g[cycle[0]][cycle[-1]]['weight'] \n",
    "\n",
    "    return weight\n",
    "\n",
    "def test_cycle_length():\n",
    "    # Here is a test case:\n",
    "    # Create an empty graph. \n",
    "    g = nx.Graph()\n",
    "    # Now we will add 6 edges between 4 vertices\n",
    "    g.add_edge(0, 1, weight = 2)\n",
    "    # We work with undirected graphs, so once we add an edge from 0 to 1, it automatically creates an edge of the same weight from 1 to 0.\n",
    "    g.add_edge(1, 2, weight = 2)\n",
    "    g.add_edge(2, 3, weight = 2)\n",
    "    g.add_edge(3, 0, weight = 2)\n",
    "    g.add_edge(0, 2, weight = 1)\n",
    "    g.add_edge(1, 3, weight = 1)\n",
    "\n",
    "    # Now we want to compute the lengths of two cycles:\n",
    "    cycle1 = [0, 1, 2, 3]\n",
    "    cycle2 = [0, 2, 1, 3]\n",
    "\n",
    "    assert(cycle_length(g, cycle1) == 8)\n",
    "    assert(cycle_length(g, cycle2) == 6)\n",
    "    print('Program correct!')\n",
    "\n",
    "test_cycle_length()"
   ]
  },
  {
   "cell_type": "markdown",
   "metadata": {},
   "source": [
    "# Brute Force Algorithm"
   ]
  },
  {
   "cell_type": "markdown",
   "metadata": {},
   "source": [
    "Implement the brute force algorithm for the Traveling Salesman Problem. The algorithm should check all the permutations of the vertices and return the minimum weight of a cycle visiting each vertex exactly once."
   ]
  },
  {
   "cell_type": "code",
   "execution_count": 35,
   "metadata": {},
   "outputs": [],
   "source": [
    "import networkx as nx\n",
    "from itertools import permutations\n",
    "\n",
    "def all_permutations(g):\n",
    "    # This function takes as input a graph g.\n",
    "    # The graph is complete (i.e., each pair of distinct vertices is connected by an edge),\n",
    "    # undirected (i.e., the edge from u to v has the same weight as the edge from v to u),\n",
    "    # and has no self-loops (i.e., there are no edges from i to i).\n",
    "    #\n",
    "    # The function should return the weight of a shortest Hamiltonian cycle.\n",
    "    # (Don't forget to add up the last edge connecting the last vertex of the cycle with the first one.)\n",
    "    #\n",
    "    # You can iterate through all permutations of the set {0, ..., n-1} and find a cycle of the minimum weight.\n",
    "\n",
    "    # n is the number of vertices.\n",
    "    n = g.number_of_nodes()\n",
    "    \n",
    "    result = []\n",
    "\n",
    "    # Iterate through all permutations of n vertices\n",
    "    for p in list(permutations(range(n))):\n",
    "        # Write your code here.\n",
    "        weight = cycle_length(g, list(p)) \n",
    "        result.append(weight)\n",
    "\n",
    "    return min(result)\n"
   ]
  },
  {
   "cell_type": "code",
   "execution_count": 37,
   "metadata": {},
   "outputs": [
    {
     "name": "stdout",
     "output_type": "stream",
     "text": [
      "Program correct!\n"
     ]
    }
   ],
   "source": [
    "def test_all_permutations():\n",
    "    # Here is a test case:\n",
    "    # Create an empty graph. \n",
    "    g = nx.Graph()\n",
    "    # Now we will add 6 edges between 4 vertices\n",
    "    g.add_edge(0, 1, weight = 2)\n",
    "    # We work with undirected graphs, so once we add an edge from 0 to 1, it automatically creates an edge of the same weight from 1 to 0.\n",
    "    g.add_edge(1, 2, weight = 2)\n",
    "    g.add_edge(2, 3, weight = 2)\n",
    "    g.add_edge(3, 0, weight = 2)\n",
    "    g.add_edge(0, 2, weight = 1)\n",
    "    g.add_edge(1, 3, weight = 1)\n",
    "\n",
    "    assert all_permutations(g) == 6\n",
    "    print('Program correct!')\n",
    "\n",
    "test_all_permutations()"
   ]
  },
  {
   "cell_type": "markdown",
   "metadata": {},
   "source": [
    "# Average Weight"
   ]
  },
  {
   "cell_type": "markdown",
   "metadata": {},
   "source": [
    "Compute the average weight of a Hamiltonian cycle in the given graph."
   ]
  },
  {
   "cell_type": "code",
   "execution_count": 45,
   "metadata": {},
   "outputs": [],
   "source": [
    "import networkx as nx\n",
    "\n",
    "def average(g):\n",
    "    # This function takes as input a graph g.\n",
    "    # The graph is complete (i.e., each pair of distinct vertices is connected by an edge),\n",
    "    # undirected (i.e., the edge from u to v has the same weight as the edge from v to u),\n",
    "    # and has no self-loops (i.e., there are no edges from i to i).\n",
    "    #\n",
    "    # The function should return the average weight of a Hamiltonian cycle.\n",
    "    # (Don't forget to add up the last edge connecting the last vertex of the cycle with the first one.)\n",
    "\n",
    "    # n is the number of vertices.\n",
    "    n = g.number_of_nodes()\n",
    "\n",
    "    # Sum of weights of all n*(n-1)/2 edges.\n",
    "    sum_of_weights = sum(g[i][j]['weight'] for i in range(n) for j in range(i))\n",
    "\n",
    "    # Write your code here.\n",
    "    return sum_of_weights * 2 / (n-1) "
   ]
  },
  {
   "cell_type": "markdown",
   "metadata": {},
   "source": [
    "# Nearest Neighbors"
   ]
  },
  {
   "cell_type": "markdown",
   "metadata": {},
   "source": [
    "Implement the Nearest Neighbors Heuristic for the Traveling Salesman Problem. Your algorithm should start with the vertex number 0, and then each time select the closest vertex among the ones which don't yet belong to the cycle.\n",
    "\n"
   ]
  },
  {
   "cell_type": "code",
   "execution_count": null,
   "metadata": {},
   "outputs": [],
   "source": [
    "import networkx as nx\n",
    "\n",
    "def nearest_neighbors(g):\n",
    "\n",
    "    # This function takes as input a graph g.\n",
    "    # The graph is complete (i.e., each pair of distinct vertices is connected by an edge),\n",
    "    # undirected (i.e., the edge from u to v has the same weight as the edge from v to u),\n",
    "    # and has no self-loops (i.e., there are no edges from i to i).\n",
    "    #\n",
    "    # The function should return the weight of the nearest neighbor heuristic, which starts at the vertex number 0,\n",
    "    # and then each time selects a closest vertex.\n",
    "\n",
    "    current_node = 0\n",
    "    path = [current_node]\n",
    "    n = g.number_of_nodes()\n",
    "\n",
    "    # We'll repeat the same routine (n-1) times\n",
    "    for _ in range(n - 1):\n",
    "        next_node = None\n",
    "        # The distance to the closest vertex. Initialized with infinity.\n",
    "        min_edge = float(\"inf\")\n",
    "        for v in g.nodes():\n",
    "            # Write your code here: decide if v is a better candidate than next_node.\n",
    "            # If it is, then update the values of next_node and min_edge\n",
    "            if g[current_node][v]['weight'] < min_edge and v not in path:\n",
    "                min_edge = g[current_node][v]['weight'] \n",
    "                next_node = v\n",
    "\n",
    "        assert next_node is not None\n",
    "        path.append(next_node)\n",
    "        current_node = next_node\n",
    "\n",
    "    weight = sum(g[path[i]][path[i + 1]]['weight'] for i in range(g.number_of_nodes() - 1))\n",
    "    weight += g[path[-1]][path[0]]['weight']\n",
    "    return weight\n",
    "\n",
    "# You might want to copy your solution to your Jupiter Notebook to see how close this heuristic is to the optimal solution."
   ]
  }
 ],
 "metadata": {
  "kernelspec": {
   "display_name": "Python 3.6",
   "language": "python",
   "name": "python36"
  },
  "language_info": {
   "codemirror_mode": {
    "name": "ipython",
    "version": 3
   },
   "file_extension": ".py",
   "mimetype": "text/x-python",
   "name": "python",
   "nbconvert_exporter": "python",
   "pygments_lexer": "ipython3",
   "version": "3.6.3"
  }
 },
 "nbformat": 4,
 "nbformat_minor": 2
}
